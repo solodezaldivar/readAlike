{
 "nbformat": 4,
 "nbformat_minor": 0,
 "metadata": {
  "colab": {
   "provenance": [],
   "gpuType": "T4",
   "include_colab_link": true
  },
  "kernelspec": {
   "name": "python3",
   "display_name": "Python 3 (ipykernel)",
   "language": "python"
  },
  "language_info": {
   "name": "python"
  },
  "accelerator": "GPU"
 },
 "cells": [
  {
   "metadata": {},
   "cell_type": "markdown",
   "source": "# Notes (delete later)"
  },
  {
   "metadata": {
    "id": "LMBEiAQmixlq"
   },
   "cell_type": "markdown",
   "source": "**Project Proposal Feedback:** Think about which dataset of books can support your project and how to evaluate the performance of your recommendation system"
  },
  {
   "metadata": {
    "id": "view-in-github",
    "colab_type": "text"
   },
   "cell_type": "markdown",
   "source": "<a href=\"https://colab.research.google.com/github/solodezaldivar/readAlike/blob/main/readAlike.ipynb\" target=\"_parent\"><img src=\"https://colab.research.google.com/assets/colab-badge.svg\" alt=\"Open In Colab\"/></a>"
  },
  {
   "cell_type": "markdown",
   "source": [
    "Book datasets: https://www.kaggle.com/datasets/elvinrustam/books-dataset/data, https://github.com/luminati-io/Amazon-popular-books-dataset,"
   ],
   "metadata": {
    "id": "-uiExyBSkJob"
   }
  },
  {
   "cell_type": "markdown",
   "source": [
    "Technische Idee:\n",
    "1. Input: max 5 book titles for the model\n",
    "2. model does the magic and produces recommendation (5 books)\n"
   ],
   "metadata": {
    "id": "s33dJ6Gll13O"
   }
  },
  {
   "metadata": {
    "id": "SJznoED3i6Xr"
   },
   "cell_type": "markdown",
   "source": [
    "\n",
    "- Categories\n",
    "- Title\n",
    "- Description\n",
    "- Author"
   ]
  },
  {
   "metadata": {},
   "cell_type": "markdown",
   "source": "# ReadAlike"
  },
  {
   "metadata": {
    "id": "aQ-Yt6c7f9zE",
    "ExecuteTime": {
     "end_time": "2024-10-18T09:34:00.466050Z",
     "start_time": "2024-10-18T09:33:59.937040Z"
    }
   },
   "cell_type": "code",
   "source": [
    "import sklearn\n",
    "import nltk\n",
    "import pandas as pd\n",
    "import numpy as np\n",
    "#import kagglehub\n",
    "\n",
    "#import surprise\n",
    "#import lenskit\n",
    "#import librec"
   ],
   "outputs": [],
   "execution_count": 2
  },
  {
   "cell_type": "code",
   "source": [
    "# import dataset\n",
    "# data from https://www.kaggle.com/datasets/elvinrustam/books-dataset?resource=download\n",
    "readAlikeDataFrame = pd.read_csv('./resources/datasets/BooksDatasetClean.csv', usecols=['Description', 'Category', 'Title'])"
   ],
   "metadata": {
    "id": "V9jJf3HTGsgG",
    "ExecuteTime": {
     "end_time": "2024-10-18T09:34:01.607421Z",
     "start_time": "2024-10-18T09:34:00.472071Z"
    }
   },
   "outputs": [],
   "execution_count": 3
  },
  {
   "metadata": {
    "ExecuteTime": {
     "end_time": "2024-10-18T09:34:01.638Z",
     "start_time": "2024-10-18T09:34:01.621092Z"
    }
   },
   "cell_type": "code",
   "source": "readAlikeDataFrame.head()",
   "outputs": [
    {
     "data": {
      "text/plain": [
       "                                               Title Description  \\\n",
       "0                                      Goat Brothers         NaN   \n",
       "1                                 The Missing Person         NaN   \n",
       "2                  Don't Eat Your Heart Out Cookbook         NaN   \n",
       "3  When Your Corporate Umbrella Begins to Leak: A...         NaN   \n",
       "4    Amy Spangler's Breastfeeding : A Parent's Guide         NaN   \n",
       "\n",
       "               Category  \n",
       "0     History , General  \n",
       "1     Fiction , General  \n",
       "2   Cooking , Reference  \n",
       "3                   NaN  \n",
       "4                   NaN  "
      ],
      "text/html": [
       "<div>\n",
       "<style scoped>\n",
       "    .dataframe tbody tr th:only-of-type {\n",
       "        vertical-align: middle;\n",
       "    }\n",
       "\n",
       "    .dataframe tbody tr th {\n",
       "        vertical-align: top;\n",
       "    }\n",
       "\n",
       "    .dataframe thead th {\n",
       "        text-align: right;\n",
       "    }\n",
       "</style>\n",
       "<table border=\"1\" class=\"dataframe\">\n",
       "  <thead>\n",
       "    <tr style=\"text-align: right;\">\n",
       "      <th></th>\n",
       "      <th>Title</th>\n",
       "      <th>Description</th>\n",
       "      <th>Category</th>\n",
       "    </tr>\n",
       "  </thead>\n",
       "  <tbody>\n",
       "    <tr>\n",
       "      <th>0</th>\n",
       "      <td>Goat Brothers</td>\n",
       "      <td>NaN</td>\n",
       "      <td>History , General</td>\n",
       "    </tr>\n",
       "    <tr>\n",
       "      <th>1</th>\n",
       "      <td>The Missing Person</td>\n",
       "      <td>NaN</td>\n",
       "      <td>Fiction , General</td>\n",
       "    </tr>\n",
       "    <tr>\n",
       "      <th>2</th>\n",
       "      <td>Don't Eat Your Heart Out Cookbook</td>\n",
       "      <td>NaN</td>\n",
       "      <td>Cooking , Reference</td>\n",
       "    </tr>\n",
       "    <tr>\n",
       "      <th>3</th>\n",
       "      <td>When Your Corporate Umbrella Begins to Leak: A...</td>\n",
       "      <td>NaN</td>\n",
       "      <td>NaN</td>\n",
       "    </tr>\n",
       "    <tr>\n",
       "      <th>4</th>\n",
       "      <td>Amy Spangler's Breastfeeding : A Parent's Guide</td>\n",
       "      <td>NaN</td>\n",
       "      <td>NaN</td>\n",
       "    </tr>\n",
       "  </tbody>\n",
       "</table>\n",
       "</div>"
      ]
     },
     "execution_count": 4,
     "metadata": {},
     "output_type": "execute_result"
    }
   ],
   "execution_count": 4
  },
  {
   "cell_type": "code",
   "source": [
    "# helper functions\n",
    "def getDescLen(desc):\n",
    "  len(desc.split())"
   ],
   "metadata": {
    "id": "HIJLOTJBlHzx",
    "ExecuteTime": {
     "end_time": "2024-10-18T09:34:01.779993Z",
     "start_time": "2024-10-18T09:34:01.774371Z"
    }
   },
   "outputs": [],
   "execution_count": 5
  },
  {
   "cell_type": "markdown",
   "source": "## Data Preprocessing",
   "metadata": {
    "id": "mecFAmIkG55T"
   }
  },
  {
   "cell_type": "code",
   "source": [
    "#drop books with missing or empty description and category\n",
    "readAlikeDataFrame['Description'] = readAlikeDataFrame[\"Description\"].replace(r'', np.nan, regex=True)\n",
    "readAlikeDataFrame[\"Category\"] = readAlikeDataFrame[\"Category\"].replace(r'', np.nan, regex=True)\n",
    "readAlikeDataFrame.dropna(subset=[\"Description\"], inplace=True)\n",
    "readAlikeDataFrame.dropna(subset=[\"Category\"], inplace=True)\n",
    "\n",
    "# TODO: does not work yet, needed?\n",
    "readAlikeDataFrame[\"description_length\"] = [getDescLen(desc) for desc in readAlikeDataFrame[\"Description\"]]\n",
    "\n",
    "\n",
    "# TODO: drop same books\n",
    "\n",
    "\n",
    "# TODO: remove book series\n",
    "\n",
    "\n",
    "readAlikeDataFrame['Genre_and_Description'] = readAlikeDataFrame['Category'] + ' ' + readAlikeDataFrame['Description']\n",
    "\n"
   ],
   "metadata": {
    "id": "3u-TQXIhiZV8",
    "ExecuteTime": {
     "end_time": "2024-10-18T09:34:03.013326Z",
     "start_time": "2024-10-18T09:34:01.858401Z"
    }
   },
   "outputs": [],
   "execution_count": 6
  },
  {
   "metadata": {
    "ExecuteTime": {
     "end_time": "2024-10-18T09:34:03.038358Z",
     "start_time": "2024-10-18T09:34:03.023196Z"
    }
   },
   "cell_type": "code",
   "source": "readAlikeDataFrame.head()",
   "outputs": [
    {
     "data": {
      "text/plain": [
       "                                                Title  \\\n",
       "7                          Journey Through Heartsongs   \n",
       "8                        In Search of Melancholy Baby   \n",
       "10       The Dieter's Guide to Weight Loss During Sex   \n",
       "11  Germs : Biological Weapons and America's Secre...   \n",
       "13  The Good Book: Reading the Bible with Mind and...   \n",
       "\n",
       "                                          Description  \\\n",
       "7   Collects poems written by the eleven-year-old ...   \n",
       "8   The Russian author offers an affectionate chro...   \n",
       "10  A humor classic, this tongue-in-cheek diet pla...   \n",
       "11  Deadly germs sprayed in shopping malls, bomb-l...   \n",
       "13  \"The Bible and the social and moral consequenc...   \n",
       "\n",
       "                                        Category description_length  \\\n",
       "7                               Poetry , General               None   \n",
       "8            Biography & Autobiography , General               None   \n",
       "10   Health & Fitness , Diet & Nutrition , Diets               None   \n",
       "11   Technology & Engineering , Military Science               None   \n",
       "13       Religion , Biblical Biography , General               None   \n",
       "\n",
       "                                Genre_and_Description  \n",
       "7    Poetry , General Collects poems written by th...  \n",
       "8    Biography & Autobiography , General The Russi...  \n",
       "10   Health & Fitness , Diet & Nutrition , Diets A...  \n",
       "11   Technology & Engineering , Military Science D...  \n",
       "13   Religion , Biblical Biography , General \"The ...  "
      ],
      "text/html": [
       "<div>\n",
       "<style scoped>\n",
       "    .dataframe tbody tr th:only-of-type {\n",
       "        vertical-align: middle;\n",
       "    }\n",
       "\n",
       "    .dataframe tbody tr th {\n",
       "        vertical-align: top;\n",
       "    }\n",
       "\n",
       "    .dataframe thead th {\n",
       "        text-align: right;\n",
       "    }\n",
       "</style>\n",
       "<table border=\"1\" class=\"dataframe\">\n",
       "  <thead>\n",
       "    <tr style=\"text-align: right;\">\n",
       "      <th></th>\n",
       "      <th>Title</th>\n",
       "      <th>Description</th>\n",
       "      <th>Category</th>\n",
       "      <th>description_length</th>\n",
       "      <th>Genre_and_Description</th>\n",
       "    </tr>\n",
       "  </thead>\n",
       "  <tbody>\n",
       "    <tr>\n",
       "      <th>7</th>\n",
       "      <td>Journey Through Heartsongs</td>\n",
       "      <td>Collects poems written by the eleven-year-old ...</td>\n",
       "      <td>Poetry , General</td>\n",
       "      <td>None</td>\n",
       "      <td>Poetry , General Collects poems written by th...</td>\n",
       "    </tr>\n",
       "    <tr>\n",
       "      <th>8</th>\n",
       "      <td>In Search of Melancholy Baby</td>\n",
       "      <td>The Russian author offers an affectionate chro...</td>\n",
       "      <td>Biography &amp; Autobiography , General</td>\n",
       "      <td>None</td>\n",
       "      <td>Biography &amp; Autobiography , General The Russi...</td>\n",
       "    </tr>\n",
       "    <tr>\n",
       "      <th>10</th>\n",
       "      <td>The Dieter's Guide to Weight Loss During Sex</td>\n",
       "      <td>A humor classic, this tongue-in-cheek diet pla...</td>\n",
       "      <td>Health &amp; Fitness , Diet &amp; Nutrition , Diets</td>\n",
       "      <td>None</td>\n",
       "      <td>Health &amp; Fitness , Diet &amp; Nutrition , Diets A...</td>\n",
       "    </tr>\n",
       "    <tr>\n",
       "      <th>11</th>\n",
       "      <td>Germs : Biological Weapons and America's Secre...</td>\n",
       "      <td>Deadly germs sprayed in shopping malls, bomb-l...</td>\n",
       "      <td>Technology &amp; Engineering , Military Science</td>\n",
       "      <td>None</td>\n",
       "      <td>Technology &amp; Engineering , Military Science D...</td>\n",
       "    </tr>\n",
       "    <tr>\n",
       "      <th>13</th>\n",
       "      <td>The Good Book: Reading the Bible with Mind and...</td>\n",
       "      <td>\"The Bible and the social and moral consequenc...</td>\n",
       "      <td>Religion , Biblical Biography , General</td>\n",
       "      <td>None</td>\n",
       "      <td>Religion , Biblical Biography , General \"The ...</td>\n",
       "    </tr>\n",
       "  </tbody>\n",
       "</table>\n",
       "</div>"
      ]
     },
     "execution_count": 7,
     "metadata": {},
     "output_type": "execute_result"
    }
   ],
   "execution_count": 7
  },
  {
   "cell_type": "markdown",
   "source": [
    "## Feature Extraction\n",
    "\n",
    "1. TF-IDF (Term Frequency-Inverse Document Frequency) give weight to important words in the book description.\n",
    "2. Cosine Similarity: Measures how similar two books are by comparing the angles between their vector representations. If two books are more similar, the cosine similarity score will be closer to 1."
   ],
   "metadata": {
    "id": "K2-t6b6GG-ir"
   }
  },
  {
   "metadata": {
    "id": "XkSIrfOcHA61",
    "ExecuteTime": {
     "end_time": "2024-10-18T09:34:03.114186Z",
     "start_time": "2024-10-18T09:34:03.103514Z"
    }
   },
   "cell_type": "code",
   "source": [
    "from sklearn.feature_extraction.text import TfidfVectorizer\n",
    "from sklearn.metrics.pairwise import cosine_similarity\n",
    "\n",
    "tfidf = TfidfVectorizer(stop_words='english')\n",
    "\n",
    "readAlikeDataFrame_fraction = readAlikeDataFrame.head() # Only use a fraction of the dataset\n",
    "tfidf_matrix_cos_sym = tfidf.fit_transform(readAlikeDataFrame_fraction['Genre_and_Description'])\n",
    "\n",
    "#similarity scores\n",
    "# TODO: currently cosine_symmetry uses too much ram, lets look at fixes (below)\n",
    "cosine_sim = cosine_similarity(tfidf_matrix_cos_sym, tfidf_matrix_cos_sym)\n"
   ],
   "outputs": [],
   "execution_count": 8
  },
  {
   "metadata": {
    "ExecuteTime": {
     "end_time": "2024-10-18T09:34:03.182535Z",
     "start_time": "2024-10-18T09:34:03.177405Z"
    }
   },
   "cell_type": "code",
   "source": [
    "# FIX 1 USING A SPARSE MATRIX: does not work either and not sure if it makes sense because it should have already been in a sparse matrix above\n",
    "# Why: In NLP sparse matrices are commonly encountered, especially when dealing with text data. This is because most documents or text entries share only a few common words, which leads to a high number of zero values in the matrix.\n",
    "\n",
    "# from scipy.sparse import csr_matrix\n",
    "# from sklearn.metrics.pairwise import cosine_similarity\n",
    "# from sklearn.feature_extraction.text import TfidfVectorizer\n",
    "\n",
    "# tfidf = TfidfVectorizer(stop_words='english')\n",
    "\n",
    "# tfidf_matrix = tfidf.fit_transform(readAlikeDataFrame['Genre_and_Description'])\n",
    "\n",
    "# Convert the TF-IDF matrix to a sparse representation\n",
    "# tfidf_matrix_sparse = csr_matrix(tfidf_matrix)\n",
    "\n",
    "# Perform cosine similarity computation with the sparse matrix\n",
    "# cosine_sim = cosine_similarity(tfidf_matrix_sparse, dense_output=False)\n"
   ],
   "outputs": [],
   "execution_count": 9
  },
  {
   "metadata": {
    "ExecuteTime": {
     "end_time": "2024-10-18T09:34:03.262241Z",
     "start_time": "2024-10-18T09:34:03.256388Z"
    }
   },
   "cell_type": "code",
   "source": [
    "# FIX 2 USING APPROXIMATE NEAREST NEIGHBORS: does not work either\n",
    "# Why: We do not need the exact similarity values and an approximately close is good enough for our recommendation system. The main idea is to trade a small amount of accuracy for a significant gain in speed and efficiency.\n",
    "\n",
    "# import faiss # conda install conda-forge::faiss\n",
    "\n",
    "# Convert the TF-IDF matrix to a numpy array\n",
    "# tfidf_array = tfidf_matrix.toarray()\n",
    "\n",
    "# Build the FAISS index\n",
    "# d = tfidf_array.shape[1]\n",
    "# index = faiss.IndexFlatL2(d)\n",
    "# index.add(tfidf_array)\n",
    "\n",
    "# Search for the 5 nearest neighbors of each item\n",
    "# k = 5\n",
    "# distances, indices = index.search(tfidf_array, k)\n"
   ],
   "outputs": [],
   "execution_count": 10
  },
  {
   "metadata": {
    "ExecuteTime": {
     "end_time": "2024-10-18T09:34:39.692801Z",
     "start_time": "2024-10-18T09:34:03.327733Z"
    }
   },
   "cell_type": "code",
   "source": [
    "# FIX 3 COMBINING SPARSE MATRIX, DIMENSIONALITY REDUCTION AND ANN: works but need to play around with parameters\n",
    "# Why: Our dataset has a high sparsity ratio of 0.9995, which indicates that we can benefit a lot from using a sparse matrix representation. Additionally, the dataset contains 115,650 features, which is quite substantial. When we apply dimensionality reduction it can significantly reduce the complexity of our data. Furthermore, using Approximate Nearest Neighbors (ANN) is sufficient because it provides a fast and efficient way to retrieve similar items without requiring exact calculations.\n",
    "\n",
    "from sklearn.feature_extraction.text import TfidfVectorizer\n",
    "from sklearn.decomposition import TruncatedSVD\n",
    "from annoy import AnnoyIndex # conda install conda-forge::python-annoy\n",
    "\n",
    "# Create a Sparse TF-IDF Matrix:\n",
    "tfidf = TfidfVectorizer(stop_words='english')\n",
    "tfidf_matrix = tfidf.fit_transform(readAlikeDataFrame['Genre_and_Description'])\n",
    "\n",
    "# Number of Dimensionality\n",
    "num_documents, num_features = tfidf_matrix.shape\n",
    "print(f'Number of documents: {num_documents}')\n",
    "print(f'Number of features (dimensions): {num_features}')\n",
    "\n",
    "# Sparsity ratio\n",
    "non_zero_count = tfidf_matrix.nnz\n",
    "total_elements = tfidf_matrix.shape[0] * tfidf_matrix.shape[1]\n",
    "sparsity = 1.0 - (non_zero_count / total_elements)\n",
    "print(f\"Sparsity Ratio: {sparsity:.4f}\")  # e.g., 0.8750 indicates 87.50% of the matrix is zero\n",
    "\n",
    "# Apply Dimensionality Reduction:\n",
    "n_components = 100  # TODO: figure out what number to use for best results\n",
    "svd = TruncatedSVD(n_components=n_components)\n",
    "tfidf_matrix_reduced = svd.fit_transform(tfidf_matrix)\n",
    "\n",
    "# Implement ANN\n",
    "f = tfidf_matrix_reduced.shape[1]  # Number of dimensions\n",
    "t = AnnoyIndex(f, 'angular')  # Choose distance metric\n",
    "\n",
    "for i in range(tfidf_matrix_reduced.shape[0]):\n",
    "    t.add_item(i, tfidf_matrix_reduced[i])\n",
    "\n",
    "t.build(10)  # Build the index with 10 trees # TODO: figure out what number to use for best results\n"
   ],
   "outputs": [
    {
     "name": "stdout",
     "output_type": "stream",
     "text": [
      "Number of documents: 65296\n",
      "Number of features (dimensions): 115650\n",
      "Sparsity Ratio: 0.9995\n"
     ]
    },
    {
     "data": {
      "text/plain": [
       "True"
      ]
     },
     "execution_count": 11,
     "metadata": {},
     "output_type": "execute_result"
    }
   ],
   "execution_count": 11
  },
  {
   "cell_type": "markdown",
   "source": "### Sentiment Analysis\n",
   "metadata": {
    "id": "xHQbhH5IMz_Y"
   }
  },
  {
   "cell_type": "code",
   "source": [
    "from nltk.sentiment.vader import SentimentIntensityAnalyzer\n",
    "\n",
    "nltk.download('vader_lexicon')\n",
    "\n",
    "sia = SentimentIntensityAnalyzer()\n",
    "\n",
    "\n",
    "def get_sentiment(text):\n",
    "  return sia.polarity_scores(text)['compound']\n",
    "\n",
    "readAlikeDataFrame['Sentiment'] = readAlikeDataFrame['Description'].apply(get_sentiment)"
   ],
   "metadata": {
    "colab": {
     "base_uri": "https://localhost:8080/"
    },
    "id": "yDooa6TYM2Rl",
    "outputId": "143f62ac-4401-486b-dae3-05ac4ba1a3b0",
    "ExecuteTime": {
     "end_time": "2024-10-18T09:36:23.876205Z",
     "start_time": "2024-10-18T09:34:39.711759Z"
    }
   },
   "outputs": [
    {
     "name": "stderr",
     "output_type": "stream",
     "text": [
      "[nltk_data] Downloading package vader_lexicon to\n",
      "[nltk_data]     C:\\Users\\stefa\\AppData\\Roaming\\nltk_data...\n",
      "[nltk_data]   Package vader_lexicon is already up-to-date!\n"
     ]
    }
   ],
   "execution_count": 12
  },
  {
   "cell_type": "markdown",
   "source": [
    "## Recommend\n",
    "\n",
    "Book Obj: Description, genre, Title"
   ],
   "metadata": {
    "id": "flPQIwtWKJWp"
   }
  },
  {
   "cell_type": "code",
   "source": [
    "class Book:\n",
    "  title: str\n",
    "  description: str\n",
    "  genre: str\n",
    "  author: str\n",
    "\n",
    "  def __init__(self, title, description, genre, author):\n",
    "    self.title = title\n",
    "    self.description = description\n",
    "    self.genre = genre\n",
    "    self.author = author\n",
    "\n",
    "\n",
    "print(readAlikeDataFrame)"
   ],
   "metadata": {
    "colab": {
     "base_uri": "https://localhost:8080/"
    },
    "id": "wUX1eIQQKSMQ",
    "outputId": "441a0cf8-ab2e-4e2d-e825-85db73095482",
    "ExecuteTime": {
     "end_time": "2024-10-18T09:36:23.926803Z",
     "start_time": "2024-10-18T09:36:23.915187Z"
    }
   },
   "outputs": [
    {
     "name": "stdout",
     "output_type": "stream",
     "text": [
      "                                                    Title  \\\n",
      "7                              Journey Through Heartsongs   \n",
      "8                            In Search of Melancholy Baby   \n",
      "10           The Dieter's Guide to Weight Loss During Sex   \n",
      "11      Germs : Biological Weapons and America's Secre...   \n",
      "13      The Good Book: Reading the Bible with Mind and...   \n",
      "...                                                   ...   \n",
      "103050                             Like A Sister: A Novel   \n",
      "103052  Creating Web Pages Simplified (3-D Visual Series)   \n",
      "103053               EVA: The Real Key to Creating Wealth   \n",
      "103056  The Essentials of Spanish (REA's Language Seri...   \n",
      "103062               Your First Puppy (Your First Series)   \n",
      "\n",
      "                                              Description  \\\n",
      "7       Collects poems written by the eleven-year-old ...   \n",
      "8       The Russian author offers an affectionate chro...   \n",
      "10      A humor classic, this tongue-in-cheek diet pla...   \n",
      "11      Deadly germs sprayed in shopping malls, bomb-l...   \n",
      "13      \"The Bible and the social and moral consequenc...   \n",
      "...                                                   ...   \n",
      "103050  Sister cannot say exactly when or where she wa...   \n",
      "103052  An \"owner's manual\" for first-time Web page cr...   \n",
      "103053  Called \"today's hottest financial idea and get...   \n",
      "103056  REA’s Essentials provide quick and easy access...   \n",
      "103062  An introduction to the proper care of puppies ...   \n",
      "\n",
      "                                                 Category description_length  \\\n",
      "7                                        Poetry , General               None   \n",
      "8                     Biography & Autobiography , General               None   \n",
      "10            Health & Fitness , Diet & Nutrition , Diets               None   \n",
      "11            Technology & Engineering , Military Science               None   \n",
      "13                Religion , Biblical Biography , General               None   \n",
      "...                                                   ...                ...   \n",
      "103050                                 Fiction , Literary               None   \n",
      "103052                     Computers , Internet , General               None   \n",
      "103053   Business & Economics , Corporate Finance , Ge...               None   \n",
      "103056                   Foreign Language Study , Spanish               None   \n",
      "103062                              Pets , Dogs , General               None   \n",
      "\n",
      "                                    Genre_and_Description  Sentiment  \n",
      "7        Poetry , General Collects poems written by th...     0.8176  \n",
      "8        Biography & Autobiography , General The Russi...     0.8126  \n",
      "10       Health & Fitness , Diet & Nutrition , Diets A...     0.8020  \n",
      "11       Technology & Engineering , Military Science D...    -0.9975  \n",
      "13       Religion , Biblical Biography , General \"The ...    -0.2732  \n",
      "...                                                   ...        ...  \n",
      "103050   Fiction , Literary Sister cannot say exactly ...     0.9899  \n",
      "103052   Computers , Internet , General An \"owner's ma...     0.1779  \n",
      "103053   Business & Economics , Corporate Finance , Ge...     0.9886  \n",
      "103056   Foreign Language Study , Spanish REA’s Essent...     0.7902  \n",
      "103062   Pets , Dogs , General An introduction to the ...     0.4939  \n",
      "\n",
      "[65296 rows x 6 columns]\n"
     ]
    }
   ],
   "execution_count": 13
  },
  {
   "metadata": {
    "ExecuteTime": {
     "end_time": "2024-10-18T09:36:23.970909Z",
     "start_time": "2024-10-18T09:36:23.960644Z"
    }
   },
   "cell_type": "code",
   "source": [
    "index = pd.Series(readAlikeDataFrame.index, index=readAlikeDataFrame['Title']).drop_duplicates()\n",
    "\n",
    "def sentiment_similarity(user_sentiment, books_sentiments):\n",
    "  return 1-abs(user_sentiment - books_sentiments)"
   ],
   "outputs": [],
   "execution_count": 14
  },
  {
   "metadata": {
    "id": "Dz7CUWmdHs2x",
    "ExecuteTime": {
     "end_time": "2024-10-18T09:36:24.003008Z",
     "start_time": "2024-10-18T09:36:23.995163Z"
    }
   },
   "cell_type": "code",
   "source": [
    "# This method uses TF-IDF and Cosine Similarity to calculate book recommendations\n",
    "def recommend_books_with_cosine_sym(book: Book, cosine_sim=cosine_sim, w_tfidf=0.7, w_sentiment=0.3):\n",
    "  idx = index[book.title] # what if words don't match 1:1?\n",
    "  print(idx)\n",
    "  if not idx: # TODO: why not? shouldn't it be opposite?\n",
    "    #pairwise sim scores for all books x input book\n",
    "    sim_scores_tfidf = cosine_sim[idx]\n",
    "\n",
    "    input_book_sentiment = readAlikeDataFrame.loc[idx, 'Sentiment']\n",
    "  else:\n",
    "    input_book_info = book.genre + ' ' + book.description\n",
    "    input_book_tfidf = tfidf.transform([input_book_info])\n",
    "\n",
    "\n",
    "    #tfidf\n",
    "    sim_scores_tfidf = cosine_similarity(input_book_tfidf, tfidf_matrix).flatten()\n",
    "\n",
    "    #sentiment\n",
    "    input_book_sentiment = get_sentiment(input_book_info)\n",
    "\n",
    "\n",
    "  sim_scores_sentiment = readAlikeDataFrame['Sentiment'].apply(lambda x: sentiment_similarity(input_book_sentiment, x)).values\n",
    "\n",
    "  #combined\n",
    "  combined_scores = (w_tfidf * sim_scores_tfidf) + (w_sentiment * sim_scores_sentiment)\n",
    "\n",
    "  sim_scores_indexes = combined_scores.argsort()[-6:-1][::-1]\n",
    "\n",
    "  return readAlikeDataFrame['Title'].iloc[sim_scores_indexes]\n",
    "\n"
   ],
   "outputs": [],
   "execution_count": 15
  },
  {
   "metadata": {
    "ExecuteTime": {
     "end_time": "2024-10-18T09:36:56.957035Z",
     "start_time": "2024-10-18T09:36:56.950236Z"
    }
   },
   "cell_type": "code",
   "source": [
    "# TODO: still WIP\n",
    "# This method uses TF-IDF and ANN to calculate book recommendations\n",
    "def recommend_books_with_ann(book: Book, tfidf=tfidf, readAlikeDataFrame=readAlikeDataFrame,t=t, w_tfidf=0.7, w_sentiment=0.3, n_neighbors=5):\n",
    "\n",
    "    idx = 9694 # readAlikeDataFrame[readAlikeDataFrame['Title'] == book.title].index\n",
    "\n",
    "    if idx is None:\n",
    "        input_book_info = book.genre + ' ' + book.description\n",
    "\n",
    "        # tfidf and nns\n",
    "        input_book_tfidf = tfidf.transform([input_book_info])\n",
    "        nearest_indices = t.get_nns_by_vector(input_book_tfidf.toarray()[0], n_neighbors)\n",
    "\n",
    "        # similarity scores\n",
    "        nearest_neighbors_tfidf = tfidf.transform(readAlikeDataFrame.iloc[nearest_indices]['Genre_and_Description'])\n",
    "        sim_scores_tfidf = cosine_similarity(input_book_tfidf, nearest_neighbors_tfidf).flatten()\n",
    "\n",
    "        # Sentiment\n",
    "        # input_book_sentiment = get_sentiment(input_book_info)\n",
    "\n",
    "    else:\n",
    "        nearest_indices = t.get_nns_by_item(idx, n_neighbors)\n",
    "\n",
    "        # get the TF-IDF vector of the found book\n",
    "        book_tfidf_vector = tfidf.transform([readAlikeDataFrame.loc[idx, 'Genre_and_Description']])\n",
    "\n",
    "        # get TF-IDF vectors for the nearest neighbors\n",
    "        nearest_neighbors_tfidf = tfidf.transform(readAlikeDataFrame.iloc[nearest_indices]['Genre_and_Description'])\n",
    "\n",
    "        # similarity scores\n",
    "        sim_scores_tfidf = cosine_similarity(book_tfidf_vector, nearest_neighbors_tfidf).flatten()\n",
    "\n",
    "        # sentiment\n",
    "        # input_book_sentiment = readAlikeDataFrame.loc[idx, 'Sentiment']\n",
    "\n",
    "    # Sentiment\n",
    "    # sim_scores_sentimentsim_scores_sentiment = readAlikeDataFrame['Sentiment'].apply(lambda x: sentiment_similarity(input_book_sentiment, x)).values[nearest_indices]\n",
    "\n",
    "    # Combined\n",
    "    combined_scores = (w_tfidf * sim_scores_tfidf) # + (w_sentiment * sim_scores_sentiment)\n",
    "\n",
    "    sim_scores_indexes = combined_scores.argsort()[-6:-1][::-1]\n",
    "\n",
    "    return readAlikeDataFrame['Title'].iloc[sim_scores_indexes]\n"
   ],
   "outputs": [],
   "execution_count": 20
  },
  {
   "cell_type": "code",
   "source": [
    "book = Book(\n",
    "    \"Journey Through Heartsongs\",\n",
    "    \"Mattie J. T. Stepanek takes us on a Journey Through Heartsongs with more of his moving poems. These poems share the rare wisdom that Mattie has acquired through his struggle with a rare form of muscular dystrophy and the death of his three siblings from the same disease. His life view was one of love and generosity and as a poet and a peacemaker, his desire was to bring his message of peace to as many people as possible.\",\n",
    "    \" Poetry , Subjects & Themes , Inspirational & Religious\",\n",
    "    \"By Stepanek, Mattie J. T.\")\n",
    "\n",
    "# res = recommend_books_with_cosine_sym(book)\n",
    "res = recommend_books_with_ann(book)\n",
    "res.head()\n"
   ],
   "metadata": {
    "colab": {
     "base_uri": "https://localhost:8080/"
    },
    "id": "WkF0fbg21N80",
    "outputId": "3f9aab57-feb9-4cb6-fa36-471b3e34bb67",
    "ExecuteTime": {
     "end_time": "2024-10-18T09:37:28.645865Z",
     "start_time": "2024-10-18T09:37:28.602147Z"
    }
   },
   "outputs": [
    {
     "name": "stdout",
     "output_type": "stream",
     "text": [
      "Title\n",
      "Journey Through Heartsongs       7\n",
      "Journey Through Heartsongs    9694\n",
      "dtype: int64\n"
     ]
    },
    {
     "ename": "ValueError",
     "evalue": "The truth value of a Series is ambiguous. Use a.empty, a.bool(), a.item(), a.any() or a.all().",
     "output_type": "error",
     "traceback": [
      "\u001B[1;31m---------------------------------------------------------------------------\u001B[0m",
      "\u001B[1;31mValueError\u001B[0m                                Traceback (most recent call last)",
      "\u001B[1;32m~\\AppData\\Local\\Temp\\ipykernel_25436\\1658947485.py\u001B[0m in \u001B[0;36m?\u001B[1;34m()\u001B[0m\n\u001B[0;32m      3\u001B[0m     \u001B[1;34m\"Mattie J. T. Stepanek takes us on a Journey Through Heartsongs with more of his moving poems. These poems share the rare wisdom that Mattie has acquired through his struggle with a rare form of muscular dystrophy and the death of his three siblings from the same disease. His life view was one of love and generosity and as a poet and a peacemaker, his desire was to bring his message of peace to as many people as possible.\"\u001B[0m\u001B[1;33m,\u001B[0m\u001B[1;33m\u001B[0m\u001B[1;33m\u001B[0m\u001B[0m\n\u001B[0;32m      4\u001B[0m     \u001B[1;34m\" Poetry , Subjects & Themes , Inspirational & Religious\"\u001B[0m\u001B[1;33m,\u001B[0m\u001B[1;33m\u001B[0m\u001B[1;33m\u001B[0m\u001B[0m\n\u001B[0;32m      5\u001B[0m     \u001B[1;34m\"By Stepanek, Mattie J. T.\"\u001B[0m\u001B[1;33m)\u001B[0m\u001B[1;33m\u001B[0m\u001B[1;33m\u001B[0m\u001B[0m\n\u001B[0;32m      6\u001B[0m \u001B[1;33m\u001B[0m\u001B[0m\n\u001B[1;32m----> 7\u001B[1;33m \u001B[0mres\u001B[0m \u001B[1;33m=\u001B[0m \u001B[0mrecommend_books_with_cosine_sym\u001B[0m\u001B[1;33m(\u001B[0m\u001B[0mbook\u001B[0m\u001B[1;33m)\u001B[0m\u001B[1;33m\u001B[0m\u001B[1;33m\u001B[0m\u001B[0m\n\u001B[0m\u001B[0;32m      8\u001B[0m \u001B[1;31m# res = recommend_books_with_ann(book)\u001B[0m\u001B[1;33m\u001B[0m\u001B[1;33m\u001B[0m\u001B[0m\n\u001B[0;32m      9\u001B[0m \u001B[0mres\u001B[0m\u001B[1;33m.\u001B[0m\u001B[0mhead\u001B[0m\u001B[1;33m(\u001B[0m\u001B[1;33m)\u001B[0m\u001B[1;33m\u001B[0m\u001B[1;33m\u001B[0m\u001B[0m\n\u001B[0;32m     10\u001B[0m \u001B[1;33m\u001B[0m\u001B[0m\n",
      "\u001B[1;32m~\\AppData\\Local\\Temp\\ipykernel_25436\\2808572845.py\u001B[0m in \u001B[0;36m?\u001B[1;34m(book, cosine_sim, w_tfidf, w_sentiment)\u001B[0m\n\u001B[0;32m      2\u001B[0m \u001B[1;32mdef\u001B[0m \u001B[0mrecommend_books_with_cosine_sym\u001B[0m\u001B[1;33m(\u001B[0m\u001B[0mbook\u001B[0m\u001B[1;33m:\u001B[0m \u001B[0mBook\u001B[0m\u001B[1;33m,\u001B[0m \u001B[0mcosine_sim\u001B[0m\u001B[1;33m=\u001B[0m\u001B[0mcosine_sim\u001B[0m\u001B[1;33m,\u001B[0m \u001B[0mw_tfidf\u001B[0m\u001B[1;33m=\u001B[0m\u001B[1;36m0.7\u001B[0m\u001B[1;33m,\u001B[0m \u001B[0mw_sentiment\u001B[0m\u001B[1;33m=\u001B[0m\u001B[1;36m0.3\u001B[0m\u001B[1;33m)\u001B[0m\u001B[1;33m:\u001B[0m\u001B[1;33m\u001B[0m\u001B[1;33m\u001B[0m\u001B[0m\n\u001B[0;32m      3\u001B[0m   \u001B[0midx\u001B[0m \u001B[1;33m=\u001B[0m \u001B[0mindex\u001B[0m\u001B[1;33m[\u001B[0m\u001B[0mbook\u001B[0m\u001B[1;33m.\u001B[0m\u001B[0mtitle\u001B[0m\u001B[1;33m]\u001B[0m \u001B[1;31m# what if words don't match 1:1?\u001B[0m\u001B[1;33m\u001B[0m\u001B[1;33m\u001B[0m\u001B[0m\n\u001B[0;32m      4\u001B[0m   \u001B[0mprint\u001B[0m\u001B[1;33m(\u001B[0m\u001B[0midx\u001B[0m\u001B[1;33m)\u001B[0m\u001B[1;33m\u001B[0m\u001B[1;33m\u001B[0m\u001B[0m\n\u001B[1;32m----> 5\u001B[1;33m   \u001B[1;32mif\u001B[0m \u001B[1;32mnot\u001B[0m \u001B[0midx\u001B[0m\u001B[1;33m:\u001B[0m \u001B[1;31m# TODO: why not? shouldn't it be opposite?\u001B[0m\u001B[1;33m\u001B[0m\u001B[1;33m\u001B[0m\u001B[0m\n\u001B[0m\u001B[0;32m      6\u001B[0m     \u001B[1;31m#pairwise sim scores for all books x input book\u001B[0m\u001B[1;33m\u001B[0m\u001B[1;33m\u001B[0m\u001B[0m\n\u001B[0;32m      7\u001B[0m     \u001B[0msim_scores_tfidf\u001B[0m \u001B[1;33m=\u001B[0m \u001B[0mcosine_sim\u001B[0m\u001B[1;33m[\u001B[0m\u001B[0midx\u001B[0m\u001B[1;33m]\u001B[0m\u001B[1;33m\u001B[0m\u001B[1;33m\u001B[0m\u001B[0m\n\u001B[0;32m      8\u001B[0m \u001B[1;33m\u001B[0m\u001B[0m\n",
      "\u001B[1;32m~\\miniconda3\\envs\\readAlike\\Lib\\site-packages\\pandas\\core\\generic.py\u001B[0m in \u001B[0;36m?\u001B[1;34m(self)\u001B[0m\n\u001B[0;32m   1575\u001B[0m     \u001B[1;33m@\u001B[0m\u001B[0mfinal\u001B[0m\u001B[1;33m\u001B[0m\u001B[1;33m\u001B[0m\u001B[0m\n\u001B[0;32m   1576\u001B[0m     \u001B[1;32mdef\u001B[0m \u001B[0m__nonzero__\u001B[0m\u001B[1;33m(\u001B[0m\u001B[0mself\u001B[0m\u001B[1;33m)\u001B[0m \u001B[1;33m->\u001B[0m \u001B[0mNoReturn\u001B[0m\u001B[1;33m:\u001B[0m\u001B[1;33m\u001B[0m\u001B[1;33m\u001B[0m\u001B[0m\n\u001B[1;32m-> 1577\u001B[1;33m         raise ValueError(\n\u001B[0m\u001B[0;32m   1578\u001B[0m             \u001B[1;33mf\"\u001B[0m\u001B[1;33mThe truth value of a \u001B[0m\u001B[1;33m{\u001B[0m\u001B[0mtype\u001B[0m\u001B[1;33m(\u001B[0m\u001B[0mself\u001B[0m\u001B[1;33m)\u001B[0m\u001B[1;33m.\u001B[0m\u001B[0m__name__\u001B[0m\u001B[1;33m}\u001B[0m\u001B[1;33m is ambiguous. \u001B[0m\u001B[1;33m\"\u001B[0m\u001B[1;33m\u001B[0m\u001B[1;33m\u001B[0m\u001B[0m\n\u001B[0;32m   1579\u001B[0m             \u001B[1;34m\"Use a.empty, a.bool(), a.item(), a.any() or a.all().\"\u001B[0m\u001B[1;33m\u001B[0m\u001B[1;33m\u001B[0m\u001B[0m\n\u001B[0;32m   1580\u001B[0m         \u001B[1;33m)\u001B[0m\u001B[1;33m\u001B[0m\u001B[1;33m\u001B[0m\u001B[0m\n",
      "\u001B[1;31mValueError\u001B[0m: The truth value of a Series is ambiguous. Use a.empty, a.bool(), a.item(), a.any() or a.all()."
     ]
    }
   ],
   "execution_count": 23
  }
 ]
}
