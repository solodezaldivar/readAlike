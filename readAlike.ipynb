{
  "nbformat": 4,
  "nbformat_minor": 0,
  "metadata": {
    "colab": {
      "provenance": [],
      "gpuType": "T4",
      "include_colab_link": true
    },
    "kernelspec": {
      "name": "python3",
      "display_name": "Python 3"
    },
    "language_info": {
      "name": "python"
    },
    "accelerator": "GPU"
  },
  "cells": [
    {
      "cell_type": "markdown",
      "metadata": {
        "id": "view-in-github",
        "colab_type": "text"
      },
      "source": [
        "<a href=\"https://colab.research.google.com/github/solodezaldivar/readAlike/blob/main/readAlike.ipynb\" target=\"_parent\"><img src=\"https://colab.research.google.com/assets/colab-badge.svg\" alt=\"Open In Colab\"/></a>"
      ]
    },
    {
      "cell_type": "markdown",
      "source": [
        "**Project Proposal Feedback:** Think about which dataset of books can support your project and how to evaluate the performance of your recommendation system"
      ],
      "metadata": {
        "id": "LMBEiAQmixlq"
      }
    },
    {
      "cell_type": "markdown",
      "source": [
        "Book datasets: https://www.kaggle.com/datasets/elvinrustam/books-dataset/data, https://github.com/luminati-io/Amazon-popular-books-dataset,"
      ],
      "metadata": {
        "id": "-uiExyBSkJob"
      }
    },
    {
      "cell_type": "markdown",
      "source": [
        "Technische Idee:\n",
        "1. Input: max 5 book titles for the model\n",
        "2. model does the magic and produces recommendation (5 books)\n"
      ],
      "metadata": {
        "id": "s33dJ6Gll13O"
      }
    },
    {
      "cell_type": "markdown",
      "source": [
        "\n",
        "- Categories\n",
        "- Title\n",
        "- Description\n",
        "- Author"
      ],
      "metadata": {
        "id": "SJznoED3i6Xr"
      }
    },
    {
      "cell_type": "code",
      "execution_count": 1,
      "metadata": {
        "id": "aQ-Yt6c7f9zE"
      },
      "outputs": [],
      "source": [
        "import sklearn\n",
        "import nltk\n",
        "import pandas as pd\n",
        "import numpy as np\n",
        "import kagglehub\n",
        "\n",
        "#import surprise\n",
        "#import lenskit\n",
        "#import librec"
      ]
    },
    {
      "cell_type": "code",
      "source": [
        "# import dataset\n",
        "readAlikeDataFrame = pd.read_csv('BooksDatasetClean.csv', usecols=['Description', 'Category', 'Title'])"
      ],
      "metadata": {
        "id": "V9jJf3HTGsgG"
      },
      "execution_count": 2,
      "outputs": []
    },
    {
      "cell_type": "code",
      "source": [
        "## helper functions\n",
        "def getDescLen(desc):\n",
        "  len(desc.split())"
      ],
      "metadata": {
        "id": "HIJLOTJBlHzx"
      },
      "execution_count": 3,
      "outputs": []
    },
    {
      "cell_type": "markdown",
      "source": [
        "#Data Preprocessing"
      ],
      "metadata": {
        "id": "mecFAmIkG55T"
      }
    },
    {
      "cell_type": "code",
      "source": [
        "\n",
        "#drop books with missing or empty description\n",
        "\n",
        "readAlikeDataFrame[\"Description\"] = readAlikeDataFrame[\"Description\"].replace(r'', np.nan, regex=True)\n",
        "readAlikeDataFrame[\"Category\"] = readAlikeDataFrame[\"Category\"].replace(r'', np.nan, regex=True)\n",
        "readAlikeDataFrame.dropna(subset=[\"Description\"], inplace=True)\n",
        "readAlikeDataFrame.dropna(subset=[\"Category\"], inplace=True)\n",
        "\n",
        "readAlikeDataFrame[\"description_length\"] = [getDescLen(desc) for desc in readAlikeDataFrame[\"Description\"]]\n",
        "\n",
        "\n",
        "#drop same books\n",
        "\n",
        "\n",
        "#remove book series\n",
        "\n",
        "\n",
        "\n",
        "\n",
        "readAlikeDataFrame['Genre_and_Description'] = readAlikeDataFrame['Category'] + ' ' + readAlikeDataFrame['Description']\n",
        "readAlikeDataFrame = readAlikeDataFrame.head()\n"
      ],
      "metadata": {
        "id": "3u-TQXIhiZV8"
      },
      "execution_count": 14,
      "outputs": []
    },
    {
      "cell_type": "markdown",
      "source": [
        "#Feature Extraction\n",
        "\n",
        "1. TF-IDF (Term Frequency-Inverse Document Frequency) give weight to important words in the book description.\n",
        "2. Cosine Similarity: Measures how similar two books are by comparing the angles between their vector representations. If two books are more similar, the cosine similarity score will be closer to 1."
      ],
      "metadata": {
        "id": "K2-t6b6GG-ir"
      }
    },
    {
      "cell_type": "code",
      "source": [
        "from sklearn.feature_extraction.text import TfidfVectorizer\n",
        "from sklearn.metrics.pairwise import cosine_similarity\n",
        "\n",
        "tfidf = TfidfVectorizer(stop_words='english')\n",
        "\n",
        "\n",
        "tfidf_matrix = tfidf.fit_transform(readAlikeDataFrame['Genre_and_Description']) #currently cosine_simetry uses too much ram, lets look at fixes\n",
        "\n",
        "\n",
        "\n",
        "#similarity scores\n",
        "cosine_sim = cosine_similarity(tfidf_matrix, tfidf_matrix)\n",
        "\n",
        "\n"
      ],
      "metadata": {
        "id": "XkSIrfOcHA61"
      },
      "execution_count": 15,
      "outputs": []
    },
    {
      "cell_type": "markdown",
      "source": [
        "##Sentiment Analysis\n"
      ],
      "metadata": {
        "id": "xHQbhH5IMz_Y"
      }
    },
    {
      "cell_type": "code",
      "source": [
        "from nltk.sentiment.vader import SentimentIntensityAnalyzer\n",
        "\n",
        "nltk.download('vader_lexicon')\n",
        "\n",
        "sia = SentimentIntensityAnalyzer()\n",
        "\n",
        "\n",
        "def get_sentiment(text):\n",
        "  return sia.polarity_scores(text)['compound']\n",
        "\n",
        "readAlikeDataFrame['Sentiment'] = readAlikeDataFrame['Description'].apply(get_sentiment)"
      ],
      "metadata": {
        "colab": {
          "base_uri": "https://localhost:8080/"
        },
        "id": "yDooa6TYM2Rl",
        "outputId": "143f62ac-4401-486b-dae3-05ac4ba1a3b0"
      },
      "execution_count": 16,
      "outputs": [
        {
          "output_type": "stream",
          "name": "stderr",
          "text": [
            "[nltk_data] Downloading package vader_lexicon to /root/nltk_data...\n",
            "[nltk_data]   Package vader_lexicon is already up-to-date!\n"
          ]
        }
      ]
    },
    {
      "cell_type": "markdown",
      "source": [
        "#Recommend\n",
        "\n",
        "Book Obj: Description, genre, Title"
      ],
      "metadata": {
        "id": "flPQIwtWKJWp"
      }
    },
    {
      "cell_type": "code",
      "source": [
        "class Book:\n",
        "  title: str\n",
        "  description: str\n",
        "  genre: str\n",
        "  author: str\n",
        "\n",
        "  def __init__(self, title, description, genre, author):\n",
        "    self.title = title\n",
        "    self.description = description\n",
        "    self.genre = genre\n",
        "    self.author = author\n",
        "\n",
        "\n",
        "print(readAlikeDataFrame)"
      ],
      "metadata": {
        "colab": {
          "base_uri": "https://localhost:8080/"
        },
        "id": "wUX1eIQQKSMQ",
        "outputId": "441a0cf8-ab2e-4e2d-e825-85db73095482"
      },
      "execution_count": 17,
      "outputs": [
        {
          "output_type": "stream",
          "name": "stdout",
          "text": [
            "                                                Title  \\\n",
            "7                          Journey Through Heartsongs   \n",
            "8                        In Search of Melancholy Baby   \n",
            "10       The Dieter's Guide to Weight Loss During Sex   \n",
            "11  Germs : Biological Weapons and America's Secre...   \n",
            "13  The Good Book: Reading the Bible with Mind and...   \n",
            "\n",
            "                                          Description  \\\n",
            "7   Collects poems written by the eleven-year-old ...   \n",
            "8   The Russian author offers an affectionate chro...   \n",
            "10  A humor classic, this tongue-in-cheek diet pla...   \n",
            "11  Deadly germs sprayed in shopping malls, bomb-l...   \n",
            "13  \"The Bible and the social and moral consequenc...   \n",
            "\n",
            "                                        Category description_length  \\\n",
            "7                               Poetry , General               None   \n",
            "8            Biography & Autobiography , General               None   \n",
            "10   Health & Fitness , Diet & Nutrition , Diets               None   \n",
            "11   Technology & Engineering , Military Science               None   \n",
            "13       Religion , Biblical Biography , General               None   \n",
            "\n",
            "                                Genre_and_Description  Sentiment  \n",
            "7    Poetry , General Collects poems written by th...     0.8176  \n",
            "8    Biography & Autobiography , General The Russi...     0.8126  \n",
            "10   Health & Fitness , Diet & Nutrition , Diets A...     0.8020  \n",
            "11   Technology & Engineering , Military Science D...    -0.9975  \n",
            "13   Religion , Biblical Biography , General \"The ...    -0.2732  \n"
          ]
        }
      ]
    },
    {
      "cell_type": "code",
      "source": [
        "index = pd.Series(readAlikeDataFrame.index, index=readAlikeDataFrame['Title']).drop_duplicates()\n",
        "\n",
        "def sentiment_similarity(user_sentiment, books_sentiments):\n",
        "  return 1-abs(user_sentiment - books_sentiments)\n",
        "\n",
        "\n",
        "\n",
        "def recommend_books_with_tf_idf(book: Book, cosine_sim=cosine_sim, w_tfidf=0.7, w_sentiment=0.3):\n",
        "  idx = index[book.title] # what if words don't match 1:1?\n",
        "  print(idx)\n",
        "  if (not idx):\n",
        "    #pairwise sim scores for all books x input book\n",
        "    sim_scores_tfidf = cosine_sim[idx]\n",
        "\n",
        "    input_book_sentiment = readAlikeDataFrame.loc[idx, 'Sentiment']\n",
        "  else:\n",
        "    input_book_info = book.genre + ' ' + book.description\n",
        "    input_book_tfidf = tfidf.transform([input_book_info])\n",
        "\n",
        "\n",
        "    #tfidf\n",
        "    sim_scores_tfidf = cosine_similarity(input_book_tfidf, tfidf_matrix).flatten()\n",
        "\n",
        "    #sentiment\n",
        "    input_book_sentiment = get_sentiment(input_book_info)\n",
        "\n",
        "\n",
        "  sim_scores_sentiment = readAlikeDataFrame['Sentiment'].apply(lambda x: sentiment_similarity(input_book_sentiment, x)).values\n",
        "\n",
        "  #combined\n",
        "  combined_scores = (w_tfidf * sim_scores_tfidf) + (w_sentiment * sim_scores_sentiment)\n",
        "\n",
        "  sim_scores_indexes = combined_scores.argsort()[-6:-1][::-1]\n",
        "\n",
        "  return readAlikeDataFrame['Title'].iloc[sim_scores_indexes]\n",
        "\n"
      ],
      "metadata": {
        "id": "Dz7CUWmdHs2x"
      },
      "execution_count": 18,
      "outputs": []
    },
    {
      "cell_type": "code",
      "source": [
        "book = Book(\n",
        "    \"Journey Through Heartsongs\",\n",
        "    \"Mattie J. T. Stepanek takes us on a Journey Through Heartsongs with more of his moving poems. These poems share the rare wisdom that Mattie has acquired through his struggle with a rare form of muscular dystrophy and the death of his three siblings from the same disease. His life view was one of love and generosity and as a poet and a peacemaker, his desire was to bring his message of peace to as many people as possible.\",\n",
        "    \" Poetry , Subjects & Themes , Inspirational & Religious\",\n",
        "    \"By Stepanek, Mattie J. T.\")\n",
        "\n",
        "res = recommend_books_with_tf_idf(book)\n",
        "print(res)\n"
      ],
      "metadata": {
        "colab": {
          "base_uri": "https://localhost:8080/"
        },
        "id": "WkF0fbg21N80",
        "outputId": "3f9aab57-feb9-4cb6-fa36-471b3e34bb67"
      },
      "execution_count": 19,
      "outputs": [
        {
          "output_type": "stream",
          "name": "stdout",
          "text": [
            "7\n",
            "8                          In Search of Melancholy Baby\n",
            "10         The Dieter's Guide to Weight Loss During Sex\n",
            "13    The Good Book: Reading the Bible with Mind and...\n",
            "11    Germs : Biological Weapons and America's Secre...\n",
            "Name: Title, dtype: object\n"
          ]
        }
      ]
    }
  ]
}