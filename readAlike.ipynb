{
 "nbformat": 4,
 "nbformat_minor": 0,
 "metadata": {
  "colab": {
   "provenance": [],
   "gpuType": "T4",
   "include_colab_link": true
  },
  "kernelspec": {
   "name": "python3",
   "display_name": "Python 3 (ipykernel)",
   "language": "python"
  },
  "language_info": {
   "name": "python"
  },
  "accelerator": "GPU"
 },
 "cells": [
  {
   "metadata": {},
   "cell_type": "markdown",
   "source": [
    "# Notes (delete later)"
   ]
  },
  {
   "metadata": {
    "id": "LMBEiAQmixlq"
   },
   "cell_type": "markdown",
   "source": [
    "**Project Proposal Feedback:** Think about which dataset of books can support your project and how to evaluate the performance of your recommendation system"
   ]
  },
  {
   "metadata": {
    "id": "view-in-github",
    "colab_type": "text"
   },
   "cell_type": "markdown",
   "source": [
    "<a href=\"https://colab.research.google.com/github/solodezaldivar/readAlike/blob/main/readAlike.ipynb\" target=\"_parent\"><img src=\"https://colab.research.google.com/assets/colab-badge.svg\" alt=\"Open In Colab\"/></a>"
   ]
  },
  {
   "cell_type": "markdown",
   "source": [
    "Book datasets: https://www.kaggle.com/datasets/elvinrustam/books-dataset/data, https://github.com/luminati-io/Amazon-popular-books-dataset,"
   ],
   "metadata": {
    "id": "-uiExyBSkJob"
   }
  },
  {
   "cell_type": "markdown",
   "source": [
    "Technische Idee:\n",
    "1. Input: max 5 book titles for the model\n",
    "2. model does the magic and produces recommendation (5 books)\n"
   ],
   "metadata": {
    "id": "s33dJ6Gll13O"
   }
  },
  {
   "metadata": {
    "id": "SJznoED3i6Xr"
   },
   "cell_type": "markdown",
   "source": [
    "\n",
    "- Categories\n",
    "- Title\n",
    "- Description\n",
    "- Author"
   ]
  },
  {
   "metadata": {},
   "cell_type": "markdown",
   "source": [
    "# ReadAlike"
   ]
  },
  {
   "metadata": {
    "id": "aQ-Yt6c7f9zE",
    "ExecuteTime": {
     "end_time": "2024-11-02T09:37:14.440669Z",
     "start_time": "2024-11-02T09:37:14.431259Z"
    }
   },
   "cell_type": "code",
   "source": [
    "import nltk\n",
    "import pandas as pd\n",
    "import numpy as np"
   ],
   "outputs": [],
   "execution_count": 1
  },
  {
   "cell_type": "code",
   "source": [
    "# data from https://www.kaggle.com/datasets/elvinrustam/books-dataset?resource=download\n",
    "readAlikeDataFrame = pd.read_csv('./datasets/BooksDatasetClean.csv',\n",
    "                                 usecols=['Description', 'Category', 'Title'])"
   ],
   "metadata": {
    "id": "V9jJf3HTGsgG",
    "ExecuteTime": {
     "end_time": "2024-11-02T09:37:15.344788Z",
     "start_time": "2024-11-02T09:37:14.464374Z"
    }
   },
   "outputs": [],
   "execution_count": 86
  },
  {
   "metadata": {
    "ExecuteTime": {
     "end_time": "2024-11-02T09:37:15.364991Z",
     "start_time": "2024-11-02T09:37:15.357739Z"
    }
   },
   "cell_type": "code",
   "source": [
    "readAlikeDataFrame.head()"
   ],
   "outputs": [
    {
     "data": {
      "text/plain": [
       "                                               Title Description  \\\n",
       "0                                      Goat Brothers         NaN   \n",
       "1                                 The Missing Person         NaN   \n",
       "2                  Don't Eat Your Heart Out Cookbook         NaN   \n",
       "3  When Your Corporate Umbrella Begins to Leak: A...         NaN   \n",
       "4    Amy Spangler's Breastfeeding : A Parent's Guide         NaN   \n",
       "\n",
       "               Category  \n",
       "0     History , General  \n",
       "1     Fiction , General  \n",
       "2   Cooking , Reference  \n",
       "3                   NaN  \n",
       "4                   NaN  "
      ],
      "text/html": [
       "<div>\n",
       "<style scoped>\n",
       "    .dataframe tbody tr th:only-of-type {\n",
       "        vertical-align: middle;\n",
       "    }\n",
       "\n",
       "    .dataframe tbody tr th {\n",
       "        vertical-align: top;\n",
       "    }\n",
       "\n",
       "    .dataframe thead th {\n",
       "        text-align: right;\n",
       "    }\n",
       "</style>\n",
       "<table border=\"1\" class=\"dataframe\">\n",
       "  <thead>\n",
       "    <tr style=\"text-align: right;\">\n",
       "      <th></th>\n",
       "      <th>Title</th>\n",
       "      <th>Description</th>\n",
       "      <th>Category</th>\n",
       "    </tr>\n",
       "  </thead>\n",
       "  <tbody>\n",
       "    <tr>\n",
       "      <th>0</th>\n",
       "      <td>Goat Brothers</td>\n",
       "      <td>NaN</td>\n",
       "      <td>History , General</td>\n",
       "    </tr>\n",
       "    <tr>\n",
       "      <th>1</th>\n",
       "      <td>The Missing Person</td>\n",
       "      <td>NaN</td>\n",
       "      <td>Fiction , General</td>\n",
       "    </tr>\n",
       "    <tr>\n",
       "      <th>2</th>\n",
       "      <td>Don't Eat Your Heart Out Cookbook</td>\n",
       "      <td>NaN</td>\n",
       "      <td>Cooking , Reference</td>\n",
       "    </tr>\n",
       "    <tr>\n",
       "      <th>3</th>\n",
       "      <td>When Your Corporate Umbrella Begins to Leak: A...</td>\n",
       "      <td>NaN</td>\n",
       "      <td>NaN</td>\n",
       "    </tr>\n",
       "    <tr>\n",
       "      <th>4</th>\n",
       "      <td>Amy Spangler's Breastfeeding : A Parent's Guide</td>\n",
       "      <td>NaN</td>\n",
       "      <td>NaN</td>\n",
       "    </tr>\n",
       "  </tbody>\n",
       "</table>\n",
       "</div>"
      ]
     },
     "execution_count": 87,
     "metadata": {},
     "output_type": "execute_result"
    }
   ],
   "execution_count": 87
  },
  {
   "cell_type": "markdown",
   "source": [
    "## Data Preprocessing"
   ],
   "metadata": {
    "id": "mecFAmIkG55T"
   }
  },
  {
   "metadata": {
    "id": "HIJLOTJBlHzx",
    "ExecuteTime": {
     "end_time": "2024-11-02T09:37:15.424624Z",
     "start_time": "2024-11-02T09:37:15.420964Z"
    }
   },
   "cell_type": "code",
   "source": [
    "# helper functions\n",
    "def getDescLen(desc):\n",
    "    return len(desc.split())"
   ],
   "outputs": [],
   "execution_count": 88
  },
  {
   "metadata": {
    "id": "3u-TQXIhiZV8",
    "ExecuteTime": {
     "end_time": "2024-11-02T09:37:16.362212Z",
     "start_time": "2024-11-02T09:37:15.472509Z"
    }
   },
   "cell_type": "code",
   "source": [
    "# drop books with missing or empty description and category\n",
    "readAlikeDataFrame['Description'] = readAlikeDataFrame[\"Description\"].replace(r'', np.nan, regex=True)\n",
    "readAlikeDataFrame[\"Category\"] = readAlikeDataFrame[\"Category\"].replace(r'', np.nan, regex=True)\n",
    "readAlikeDataFrame.dropna(subset=[\"Description\"], inplace=True)\n",
    "readAlikeDataFrame.dropna(subset=[\"Category\"], inplace=True)\n",
    "\n",
    "# drop books with too short description\n",
    "readAlikeDataFrame[\"description_length\"] = readAlikeDataFrame[\"Description\"].apply(getDescLen)\n",
    "readAlikeDataFrame = readAlikeDataFrame[readAlikeDataFrame[\"description_length\"] >= 10]\n",
    "\n",
    "# drop duplicate books\n",
    "readAlikeDataFrame.drop_duplicates(subset='Title', keep='first', inplace=True)\n",
    "\n",
    "# TODO: drop remove book series\n",
    "\n",
    "# merge content into one column to calculate tfidf on this later\n",
    "readAlikeDataFrame['Genre_and_Description'] = readAlikeDataFrame['Category'] + ' ' + readAlikeDataFrame['Description']\n",
    "\n",
    "# reset index after all pre-processing steps\n",
    "readAlikeDataFrame.reset_index(drop=True, inplace=True)\n",
    "\n",
    "readAlikeDataFrame.head()"
   ],
   "outputs": [
    {
     "data": {
      "text/plain": [
       "                                               Title  \\\n",
       "0                         Journey Through Heartsongs   \n",
       "1                       In Search of Melancholy Baby   \n",
       "2       The Dieter's Guide to Weight Loss During Sex   \n",
       "3  Germs : Biological Weapons and America's Secre...   \n",
       "4  The Good Book: Reading the Bible with Mind and...   \n",
       "\n",
       "                                         Description  \\\n",
       "0  Collects poems written by the eleven-year-old ...   \n",
       "1  The Russian author offers an affectionate chro...   \n",
       "2  A humor classic, this tongue-in-cheek diet pla...   \n",
       "3  Deadly germs sprayed in shopping malls, bomb-l...   \n",
       "4  \"The Bible and the social and moral consequenc...   \n",
       "\n",
       "                                       Category  description_length  \\\n",
       "0                              Poetry , General                  26   \n",
       "1           Biography & Autobiography , General                  30   \n",
       "2   Health & Fitness , Diet & Nutrition , Diets                  70   \n",
       "3   Technology & Engineering , Military Science                 429   \n",
       "4       Religion , Biblical Biography , General                  42   \n",
       "\n",
       "                               Genre_and_Description  \n",
       "0   Poetry , General Collects poems written by th...  \n",
       "1   Biography & Autobiography , General The Russi...  \n",
       "2   Health & Fitness , Diet & Nutrition , Diets A...  \n",
       "3   Technology & Engineering , Military Science D...  \n",
       "4   Religion , Biblical Biography , General \"The ...  "
      ],
      "text/html": [
       "<div>\n",
       "<style scoped>\n",
       "    .dataframe tbody tr th:only-of-type {\n",
       "        vertical-align: middle;\n",
       "    }\n",
       "\n",
       "    .dataframe tbody tr th {\n",
       "        vertical-align: top;\n",
       "    }\n",
       "\n",
       "    .dataframe thead th {\n",
       "        text-align: right;\n",
       "    }\n",
       "</style>\n",
       "<table border=\"1\" class=\"dataframe\">\n",
       "  <thead>\n",
       "    <tr style=\"text-align: right;\">\n",
       "      <th></th>\n",
       "      <th>Title</th>\n",
       "      <th>Description</th>\n",
       "      <th>Category</th>\n",
       "      <th>description_length</th>\n",
       "      <th>Genre_and_Description</th>\n",
       "    </tr>\n",
       "  </thead>\n",
       "  <tbody>\n",
       "    <tr>\n",
       "      <th>0</th>\n",
       "      <td>Journey Through Heartsongs</td>\n",
       "      <td>Collects poems written by the eleven-year-old ...</td>\n",
       "      <td>Poetry , General</td>\n",
       "      <td>26</td>\n",
       "      <td>Poetry , General Collects poems written by th...</td>\n",
       "    </tr>\n",
       "    <tr>\n",
       "      <th>1</th>\n",
       "      <td>In Search of Melancholy Baby</td>\n",
       "      <td>The Russian author offers an affectionate chro...</td>\n",
       "      <td>Biography &amp; Autobiography , General</td>\n",
       "      <td>30</td>\n",
       "      <td>Biography &amp; Autobiography , General The Russi...</td>\n",
       "    </tr>\n",
       "    <tr>\n",
       "      <th>2</th>\n",
       "      <td>The Dieter's Guide to Weight Loss During Sex</td>\n",
       "      <td>A humor classic, this tongue-in-cheek diet pla...</td>\n",
       "      <td>Health &amp; Fitness , Diet &amp; Nutrition , Diets</td>\n",
       "      <td>70</td>\n",
       "      <td>Health &amp; Fitness , Diet &amp; Nutrition , Diets A...</td>\n",
       "    </tr>\n",
       "    <tr>\n",
       "      <th>3</th>\n",
       "      <td>Germs : Biological Weapons and America's Secre...</td>\n",
       "      <td>Deadly germs sprayed in shopping malls, bomb-l...</td>\n",
       "      <td>Technology &amp; Engineering , Military Science</td>\n",
       "      <td>429</td>\n",
       "      <td>Technology &amp; Engineering , Military Science D...</td>\n",
       "    </tr>\n",
       "    <tr>\n",
       "      <th>4</th>\n",
       "      <td>The Good Book: Reading the Bible with Mind and...</td>\n",
       "      <td>\"The Bible and the social and moral consequenc...</td>\n",
       "      <td>Religion , Biblical Biography , General</td>\n",
       "      <td>42</td>\n",
       "      <td>Religion , Biblical Biography , General \"The ...</td>\n",
       "    </tr>\n",
       "  </tbody>\n",
       "</table>\n",
       "</div>"
      ]
     },
     "execution_count": 89,
     "metadata": {},
     "output_type": "execute_result"
    }
   ],
   "execution_count": 89
  },
  {
   "metadata": {
    "ExecuteTime": {
     "end_time": "2024-11-02T09:37:16.404306Z",
     "start_time": "2024-11-02T09:37:16.400247Z"
    }
   },
   "cell_type": "code",
   "source": [
    "is_getting_stats = True # is set to true to get statistics on how different parameter perform, when set to false feel free to experiment otherwise\n",
    "is_reduced_dataset = True # is set to true if you want to compare ann and cos_sym, you need to reduce the dataset to be able to run cos_sym\n",
    "n_reduced_dataset = 500\n",
    "\n",
    "if not is_getting_stats:\n",
    "    if is_reduced_dataset:\n",
    "        readAlikeDataFrame = readAlikeDataFrame.head(n_reduced_dataset)\n",
    "        readAlikeDataFrame_reduced = readAlikeDataFrame.head(n_reduced_dataset)\n",
    "    else:\n",
    "        readAlikeDataFrame_reduced = readAlikeDataFrame.head(n_reduced_dataset)"
   ],
   "outputs": [],
   "execution_count": 90
  },
  {
   "metadata": {
    "id": "K2-t6b6GG-ir"
   },
   "cell_type": "markdown",
   "source": [
    "## Feature Extraction\n",
    "\n",
    "1. TF-IDF (Term Frequency-Inverse Document Frequency) give weight to important words in the book description.\n",
    "2. Cosine Similarity: Measures how similar two books are by comparing the angles between their vector representations. If two books are more similar, the cosine similarity score will be closer to 1."
   ]
  },
  {
   "metadata": {
    "id": "XkSIrfOcHA61",
    "ExecuteTime": {
     "end_time": "2024-11-02T09:37:16.456283Z",
     "start_time": "2024-11-02T09:37:16.450723Z"
    }
   },
   "cell_type": "code",
   "source": [
    "from sklearn.metrics.pairwise import cosine_similarity\n",
    "\n",
    "\n",
    "# generate the TF-IDF matrix\n",
    "def get_tfidf_matrix(df):\n",
    "    tfidf = TfidfVectorizer(stop_words='english')\n",
    "    return tfidf.fit_transform(df['Genre_and_Description'])\n",
    "\n",
    "\n",
    "# compute cosine similarity scores from a TF-IDF matrix\n",
    "def get_cos_sym_scores(tfidf_matrix):\n",
    "    return cosine_similarity(tfidf_matrix, tfidf_matrix)\n",
    "\n",
    "\n",
    "# cosine_symmetry uses too much ram, so we only use the reduced df\n",
    "if not is_getting_stats:\n",
    "    tfidf_matrix_cos_sym = get_tfidf_matrix(readAlikeDataFrame_reduced)\n",
    "    cosine_sim_scores = get_cos_sym_scores(tfidf_matrix_cos_sym)\n"
   ],
   "outputs": [],
   "execution_count": 91
  },
  {
   "metadata": {
    "ExecuteTime": {
     "end_time": "2024-11-02T09:37:16.539169Z",
     "start_time": "2024-11-02T09:37:16.531344Z"
    }
   },
   "cell_type": "code",
   "source": [
    "# FIX 3 COMBINING SPARSE MATRIX, DIMENSIONALITY REDUCTION AND ANN: works but need to play around with parameters\n",
    "# Why: Our dataset has a high sparsity ratio of 0.9995, which indicates that we can benefit a lot from using a sparse matrix representation. Additionally, the dataset contains 115,650 features, which is quite substantial. When we apply dimensionality reduction it can significantly reduce the complexity of our data. Furthermore, using Approximate Nearest Neighbors (ANN) is sufficient because it provides a fast and efficient way to retrieve similar items without requiring exact calculations.\n",
    "\n",
    "from sklearn.feature_extraction.text import TfidfVectorizer\n",
    "from sklearn.decomposition import TruncatedSVD\n",
    "from annoy import AnnoyIndex  # conda install conda-forge::python-annoy\n",
    "\n",
    "def get_ann_index(n_dim_reduction, n_trees, df=readAlikeDataFrame):\n",
    "    # create a sparse TF-IDF Matrix:\n",
    "    tfidf_matrix = get_tfidf_matrix(df)\n",
    "\n",
    "    # number of dimensionality\n",
    "    num_documents, num_features = tfidf_matrix.shape\n",
    "    # print(f'Number of documents: {num_documents}')\n",
    "    # print(f'Number of features (dimensions): {num_features}')\n",
    "\n",
    "    # sparsity ratio\n",
    "    non_zero_count = tfidf_matrix.nnz\n",
    "    total_elements = tfidf_matrix.shape[0] * tfidf_matrix.shape[1]\n",
    "    sparsity = 1.0 - (non_zero_count / total_elements)\n",
    "    # print(f\"Sparsity Ratio: {sparsity:.4f}\")  # e.g., 0.8750 indicates 87.50% of the matrix is zero\n",
    "\n",
    "    # apply dimensionality reduction:\n",
    "    svd = TruncatedSVD(n_components=n_dim_reduction)\n",
    "    tfidf_matrix_reduced = svd.fit_transform(tfidf_matrix)\n",
    "\n",
    "    # implement ANN\n",
    "    f = tfidf_matrix_reduced.shape[1]  # Number of dimensions\n",
    "    t = AnnoyIndex(f, 'angular')  # Choose distance metric\n",
    "\n",
    "    for i in range(tfidf_matrix_reduced.shape[0]):\n",
    "        t.add_item(i, tfidf_matrix_reduced[i])\n",
    "\n",
    "    t.build(n_trees)  # build the index with n trees\n",
    "\n",
    "    return tfidf_matrix, t"
   ],
   "outputs": [],
   "execution_count": 92
  },
  {
   "metadata": {},
   "cell_type": "code",
   "outputs": [],
   "execution_count": null,
   "source": [
    "n_dim_reduction = 100\n",
    "n_trees = 10\n",
    "\n",
    "if not is_getting_stats:\n",
    "    tfidf_matrix_ann, t = get_ann_index(n_dim_reduction, n_trees, readAlikeDataFrame)"
   ]
  },
  {
   "cell_type": "markdown",
   "source": [
    "### Sentiment Analysis\n"
   ],
   "metadata": {
    "id": "xHQbhH5IMz_Y"
   }
  },
  {
   "metadata": {
    "colab": {
     "base_uri": "https://localhost:8080/"
    },
    "id": "yDooa6TYM2Rl",
    "outputId": "143f62ac-4401-486b-dae3-05ac4ba1a3b0",
    "ExecuteTime": {
     "end_time": "2024-11-02T09:37:16.576928Z",
     "start_time": "2024-11-02T09:37:16.564027Z"
    }
   },
   "cell_type": "code",
   "source": [
    "# maybe consider sentiment analysis later but right now not the focus\n",
    "from nltk.sentiment.vader import SentimentIntensityAnalyzer\n",
    "\n",
    "nltk.download('vader_lexicon')\n",
    "sia = SentimentIntensityAnalyzer()\n",
    "\n",
    "def get_sentiment(text):\n",
    "    return sia.polarity_scores(text)['compound']\n",
    "\n",
    "#readAlikeDataFrame['Sentiment'] = readAlikeDataFrame['Description'].apply(get_sentiment)"
   ],
   "outputs": [
    {
     "name": "stderr",
     "output_type": "stream",
     "text": [
      "[nltk_data] Downloading package vader_lexicon to\n",
      "[nltk_data]     C:\\Users\\stefa\\AppData\\Roaming\\nltk_data...\n",
      "[nltk_data]   Package vader_lexicon is already up-to-date!\n"
     ]
    }
   ],
   "execution_count": 93
  },
  {
   "metadata": {
    "ExecuteTime": {
     "end_time": "2024-11-02T09:37:16.614300Z",
     "start_time": "2024-11-02T09:37:16.605656Z"
    }
   },
   "cell_type": "code",
   "source": [
    "index = pd.Series(readAlikeDataFrame.index, index=readAlikeDataFrame['Title']).drop_duplicates()\n",
    "\n",
    "def sentiment_similarity(user_sentiment, books_sentiments):\n",
    "    return 1 - abs(user_sentiment - books_sentiments)"
   ],
   "outputs": [],
   "execution_count": 94
  },
  {
   "metadata": {
    "id": "flPQIwtWKJWp"
   },
   "cell_type": "markdown",
   "source": [
    "## Recommend\n",
    "\n",
    "Book Obj: Description, genre, Title"
   ]
  },
  {
   "metadata": {
    "colab": {
     "base_uri": "https://localhost:8080/"
    },
    "id": "wUX1eIQQKSMQ",
    "outputId": "441a0cf8-ab2e-4e2d-e825-85db73095482",
    "ExecuteTime": {
     "end_time": "2024-11-02T09:37:16.633934Z",
     "start_time": "2024-11-02T09:37:16.629914Z"
    }
   },
   "cell_type": "code",
   "source": [
    "class Book:\n",
    "    title: str\n",
    "    description: str\n",
    "    genre: str\n",
    "    author: str\n",
    "\n",
    "    def __init__(self, title, description, genre, author):\n",
    "        self.title = title\n",
    "        self.description = description\n",
    "        self.genre = genre\n",
    "        self.author = author"
   ],
   "outputs": [],
   "execution_count": 95
  },
  {
   "metadata": {
    "ExecuteTime": {
     "end_time": "2024-11-02T09:37:16.654374Z",
     "start_time": "2024-11-02T09:37:16.647909Z"
    }
   },
   "cell_type": "code",
   "source": [
    "# This method uses TF-IDF and Cosine Similarity to calculate book recommendations\n",
    "def recommend_books_with_cosine_sym(book: Book, tfidf_matrix, cosine_sim,\n",
    "                                    df, w_tfidf=1.0, n_recommend=5):\n",
    "    try:\n",
    "        idx = index[book.title]\n",
    "    except KeyError:\n",
    "        idx = None\n",
    "\n",
    "    if idx is not None:\n",
    "        sim_scores_tfidf = cosine_sim[idx]\n",
    "    else:\n",
    "        # if the book is not in the dataset, create a tfidf vector from its info\n",
    "        input_book_info = book.genre + ' ' + book.description\n",
    "        input_book_tfidf = tfidf_matrix_cos_sym.transform([input_book_info])\n",
    "\n",
    "        # calculate cos_sym between the input book and all other books in the dataset\n",
    "        sim_scores_tfidf = cosine_similarity(input_book_tfidf, tfidf_matrix).flatten()\n",
    "\n",
    "    combined_scores = w_tfidf * sim_scores_tfidf\n",
    "\n",
    "    # exclude input book\n",
    "    if idx is not None:\n",
    "        combined_scores[idx] = -1\n",
    "\n",
    "    sim_scores_indexes = combined_scores.argsort()[-n_recommend:][::-1]\n",
    "\n",
    "    return df['Title'].iloc[sim_scores_indexes]\n",
    "\n"
   ],
   "outputs": [],
   "execution_count": 96
  },
  {
   "metadata": {
    "ExecuteTime": {
     "end_time": "2024-11-02T09:37:16.677906Z",
     "start_time": "2024-11-02T09:37:16.667025Z"
    }
   },
   "cell_type": "code",
   "source": [
    "# This method uses TF-IDF and ANN to calculate book recommendations\n",
    "def recommend_books_with_ann(book: Book, tfidf, df, t, n_neighbors=5):\n",
    "    try:\n",
    "        idx = index[book.title]\n",
    "    except KeyError:\n",
    "        idx = None\n",
    "\n",
    "    if idx is None:\n",
    "        input_book_info = book.genre + ' ' + book.description\n",
    "        input_book_tfidf = tfidf.transform([input_book_info])\n",
    "\n",
    "        # do ANN to find the nearest neighbors based on the vector\n",
    "        nearest_indices = t.get_nns_by_vector(input_book_tfidf.toarray()[0], n_neighbors + 1)\n",
    "    else:\n",
    "        # do ANN directly based on the item index\n",
    "        nearest_indices = t.get_nns_by_item(int(idx), n_neighbors + 1)\n",
    "\n",
    "    # exclude input book\n",
    "    if idx is not None and idx in nearest_indices:\n",
    "        nearest_indices.remove(idx)\n",
    "\n",
    "    nearest_indices = nearest_indices[:n_neighbors]\n",
    "\n",
    "    # TODO: to increase precision within the n_neighbours an option would be to recalculate the n_nearest neighbours with cosine-sym again\n",
    "\n",
    "    return df['Title'].iloc[nearest_indices]\n"
   ],
   "outputs": [],
   "execution_count": 97
  },
  {
   "cell_type": "code",
   "source": [
    "book = Book(\n",
    "    \"Journey Through Heartsongs\",\n",
    "    \"Mattie J. T. Stepanek takes us on a Journey Through Heartsongs with more of his moving poems. These poems share the rare wisdom that Mattie has acquired through his struggle with a rare form of muscular dystrophy and the death of his three siblings from the same disease. His life view was one of love and generosity and as a poet and a peacemaker, his desire was to bring his message of peace to as many people as possible.\",\n",
    "    \" Poetry , Subjects & Themes , Inspirational & Religious\",\n",
    "    \"By Stepanek, Mattie J. T.\")\n"
   ],
   "metadata": {
    "colab": {
     "base_uri": "https://localhost:8080/"
    },
    "id": "WkF0fbg21N80",
    "outputId": "3f9aab57-feb9-4cb6-fa36-471b3e34bb67",
    "ExecuteTime": {
     "end_time": "2024-11-02T09:37:16.697353Z",
     "start_time": "2024-11-02T09:37:16.691362Z"
    }
   },
   "outputs": [],
   "execution_count": 98
  },
  {
   "metadata": {
    "ExecuteTime": {
     "end_time": "2024-11-02T09:37:16.715993Z",
     "start_time": "2024-11-02T09:37:16.711504Z"
    }
   },
   "cell_type": "code",
   "source": [
    "if not is_getting_stats:\n",
    "    res_cos_sym = recommend_books_with_cosine_sym(book, n_recommend=10)\n",
    "    res_cos_sym.head(10)"
   ],
   "outputs": [],
   "execution_count": 99
  },
  {
   "metadata": {
    "ExecuteTime": {
     "end_time": "2024-11-02T09:37:16.734711Z",
     "start_time": "2024-11-02T09:37:16.730786Z"
    }
   },
   "cell_type": "code",
   "source": [
    "if not is_getting_stats:\n",
    "    res_ann = recommend_books_with_ann(book, n_neighbors=10)\n",
    "    res_ann.head(10)"
   ],
   "outputs": [],
   "execution_count": 100
  },
  {
   "metadata": {
    "ExecuteTime": {
     "end_time": "2024-11-02T09:37:16.756274Z",
     "start_time": "2024-11-02T09:37:16.750545Z"
    }
   },
   "cell_type": "code",
   "source": [
    "if not is_getting_stats:\n",
    "    intersection_count = len(set(res_cos_sym) & set(res_ann))\n",
    "    overlap_percentage = (intersection_count / min(len(res_cos_sym), len(res_ann))) * 100\n",
    "\n",
    "    print(f\"Overlap Percentage: {overlap_percentage}%\")"
   ],
   "outputs": [],
   "execution_count": 101
  },
  {
   "metadata": {
    "ExecuteTime": {
     "end_time": "2024-11-02T10:48:47.631069Z",
     "start_time": "2024-11-02T10:48:47.622443Z"
    }
   },
   "cell_type": "code",
   "source": [
    "# evaluate the impact of different parameters on the overlap between ANN and cosine similarity recommendations\n",
    "\n",
    "def get_statistics(stats, n_reduced_dataset, n_trees, n_dim_reduction, n_output):\n",
    "    for idx_dataset in range(len(n_reduced_dataset_list)):\n",
    "        for idx_tree in range(len(n_trees_list)):\n",
    "            for idx_dim in range(len(n_dim_reduction_list)):\n",
    "                n_reduced_dataset = n_reduced_dataset_list[idx_dataset]\n",
    "                n_trees = n_trees_list[idx_tree]\n",
    "                n_dim_reduction = n_dim_reduction_list[idx_dim]\n",
    "                n_output = 10\n",
    "\n",
    "                readAlikeDataFrame_reduced = readAlikeDataFrame.head(n_reduced_dataset)\n",
    "                tfidf_matrix_cos_sym = get_tfidf_matrix(readAlikeDataFrame_reduced)\n",
    "                cosine_sim_scores = get_cos_sym_scores(tfidf_matrix_cos_sym)\n",
    "                tfidf_matrix_ann, t = get_ann_index(n_dim_reduction, n_trees, readAlikeDataFrame_reduced)\n",
    "\n",
    "                res_cos_sym = recommend_books_with_cosine_sym(book, tfidf_matrix_cos_sym, cosine_sim_scores, readAlikeDataFrame_reduced, n_recommend=n_output)\n",
    "                res_ann = recommend_books_with_ann(book, tfidf_matrix_ann, readAlikeDataFrame_reduced, t, n_neighbors=n_output)\n",
    "\n",
    "                intersection_count = len(set(res_cos_sym) & set(res_ann))\n",
    "                overlap_percentage = (intersection_count / min(len(res_cos_sym), len(res_ann))) * 100\n",
    "\n",
    "                stats.append({\n",
    "                    'n_reduced_dataset': n_reduced_dataset,\n",
    "                    'n_trees': n_trees,\n",
    "                    'n_dim_reduction': n_dim_reduction,\n",
    "                    'n_output': n_output,\n",
    "                    'overlap_percentage': overlap_percentage\n",
    "                })\n",
    "\n",
    "                print(stats[-1])\n",
    "\n",
    "    stats_df = pd.DataFrame(stats)\n",
    "    return stats_df\n"
   ],
   "outputs": [],
   "execution_count": 122
  },
  {
   "metadata": {
    "ExecuteTime": {
     "end_time": "2024-11-02T10:48:51.822614Z",
     "start_time": "2024-11-02T10:48:51.814976Z"
    }
   },
   "cell_type": "code",
   "source": [
    "stats_df = pd.read_pickle(\"./statistics/stats_df_241102.pkl\")\n",
    "stats_list = stats_df.to_dict(orient='records')"
   ],
   "outputs": [],
   "execution_count": 123
  },
  {
   "metadata": {
    "ExecuteTime": {
     "end_time": "2024-11-02T11:04:18.966129Z",
     "start_time": "2024-11-02T10:48:55.428707Z"
    }
   },
   "cell_type": "code",
   "source": [
    "is_getting_stats = True\n",
    "n_reduced_dataset_list = [20000, 25000]\n",
    "n_trees_list = [60, 100, 150]\n",
    "n_dim_reduction_list = [200, 300, 400]\n",
    "n_output = 10\n",
    "\n",
    "#stats_df = get_statistics(stats_list, n_reduced_dataset, n_trees, n_dim_reduction, n_output)\n",
    "#stats_df.to_pickle(\"./statistics/stats_df_XXXXX.pkl\")\n",
    "\n",
    "# for me it cosine_sym stopped working when inputting the following: {'n_reduced_dataset': 25000, 'n_trees': 60, 'n_dim_reduction': 200, 'n_output': 10, 'overlap_percentage': XXXX}"
   ],
   "outputs": [
    {
     "name": "stdout",
     "output_type": "stream",
     "text": [
      "{'n_reduced_dataset': 20000, 'n_trees': 60, 'n_dim_reduction': 200, 'n_output': 10, 'overlap_percentage': 40.0}\n",
      "{'n_reduced_dataset': 20000, 'n_trees': 60, 'n_dim_reduction': 300, 'n_output': 10, 'overlap_percentage': 40.0}\n",
      "{'n_reduced_dataset': 20000, 'n_trees': 60, 'n_dim_reduction': 400, 'n_output': 10, 'overlap_percentage': 10.0}\n",
      "{'n_reduced_dataset': 20000, 'n_trees': 100, 'n_dim_reduction': 200, 'n_output': 10, 'overlap_percentage': 40.0}\n",
      "{'n_reduced_dataset': 20000, 'n_trees': 100, 'n_dim_reduction': 300, 'n_output': 10, 'overlap_percentage': 40.0}\n",
      "{'n_reduced_dataset': 20000, 'n_trees': 100, 'n_dim_reduction': 400, 'n_output': 10, 'overlap_percentage': 50.0}\n",
      "{'n_reduced_dataset': 20000, 'n_trees': 150, 'n_dim_reduction': 200, 'n_output': 10, 'overlap_percentage': 40.0}\n",
      "{'n_reduced_dataset': 20000, 'n_trees': 150, 'n_dim_reduction': 300, 'n_output': 10, 'overlap_percentage': 40.0}\n",
      "{'n_reduced_dataset': 20000, 'n_trees': 150, 'n_dim_reduction': 400, 'n_output': 10, 'overlap_percentage': 40.0}\n"
     ]
    },
    {
     "ename": "MemoryError",
     "evalue": "Unable to allocate 4.66 GiB for an array with shape (25000, 25000) and data type float64",
     "output_type": "error",
     "traceback": [
      "\u001B[1;31m---------------------------------------------------------------------------\u001B[0m",
      "\u001B[1;31mMemoryError\u001B[0m                               Traceback (most recent call last)",
      "Cell \u001B[1;32mIn[124], line 7\u001B[0m\n\u001B[0;32m      4\u001B[0m n_dim_reduction_list \u001B[38;5;241m=\u001B[39m [\u001B[38;5;241m200\u001B[39m, \u001B[38;5;241m300\u001B[39m, \u001B[38;5;241m400\u001B[39m]\n\u001B[0;32m      5\u001B[0m n_output \u001B[38;5;241m=\u001B[39m \u001B[38;5;241m10\u001B[39m\n\u001B[1;32m----> 7\u001B[0m stats_df \u001B[38;5;241m=\u001B[39m get_statistics(stats_list, n_reduced_dataset, n_trees, n_dim_reduction, n_output)\n\u001B[0;32m      8\u001B[0m stats_df\u001B[38;5;241m.\u001B[39mto_pickle(\u001B[38;5;124m\"\u001B[39m\u001B[38;5;124m./statistics/stats_df_241102.pkl\u001B[39m\u001B[38;5;124m\"\u001B[39m)\n",
      "Cell \u001B[1;32mIn[122], line 14\u001B[0m, in \u001B[0;36mget_statistics\u001B[1;34m(stats, n_reduced_dataset, n_trees, n_dim_reduction, n_output)\u001B[0m\n\u001B[0;32m     12\u001B[0m readAlikeDataFrame_reduced \u001B[38;5;241m=\u001B[39m readAlikeDataFrame\u001B[38;5;241m.\u001B[39mhead(n_reduced_dataset)\n\u001B[0;32m     13\u001B[0m tfidf_matrix_cos_sym \u001B[38;5;241m=\u001B[39m get_tfidf_matrix(readAlikeDataFrame_reduced)\n\u001B[1;32m---> 14\u001B[0m cosine_sim_scores \u001B[38;5;241m=\u001B[39m get_cos_sym_scores(tfidf_matrix_cos_sym)\n\u001B[0;32m     15\u001B[0m tfidf_matrix_ann, t \u001B[38;5;241m=\u001B[39m get_ann_index(n_dim_reduction, n_trees, readAlikeDataFrame_reduced)\n\u001B[0;32m     17\u001B[0m res_cos_sym \u001B[38;5;241m=\u001B[39m recommend_books_with_cosine_sym(book, tfidf_matrix_cos_sym, cosine_sim_scores, readAlikeDataFrame_reduced, n_recommend\u001B[38;5;241m=\u001B[39mn_output)\n",
      "Cell \u001B[1;32mIn[91], line 12\u001B[0m, in \u001B[0;36mget_cos_sym_scores\u001B[1;34m(tfidf_matrix)\u001B[0m\n\u001B[0;32m     11\u001B[0m \u001B[38;5;28;01mdef\u001B[39;00m \u001B[38;5;21mget_cos_sym_scores\u001B[39m(tfidf_matrix):\n\u001B[1;32m---> 12\u001B[0m     \u001B[38;5;28;01mreturn\u001B[39;00m cosine_similarity(tfidf_matrix, tfidf_matrix)\n",
      "File \u001B[1;32m~\\miniconda3\\envs\\readAlike\\Lib\\site-packages\\sklearn\\utils\\_param_validation.py:213\u001B[0m, in \u001B[0;36mvalidate_params.<locals>.decorator.<locals>.wrapper\u001B[1;34m(*args, **kwargs)\u001B[0m\n\u001B[0;32m    207\u001B[0m \u001B[38;5;28;01mtry\u001B[39;00m:\n\u001B[0;32m    208\u001B[0m     \u001B[38;5;28;01mwith\u001B[39;00m config_context(\n\u001B[0;32m    209\u001B[0m         skip_parameter_validation\u001B[38;5;241m=\u001B[39m(\n\u001B[0;32m    210\u001B[0m             prefer_skip_nested_validation \u001B[38;5;129;01mor\u001B[39;00m global_skip_validation\n\u001B[0;32m    211\u001B[0m         )\n\u001B[0;32m    212\u001B[0m     ):\n\u001B[1;32m--> 213\u001B[0m         \u001B[38;5;28;01mreturn\u001B[39;00m func(\u001B[38;5;241m*\u001B[39margs, \u001B[38;5;241m*\u001B[39m\u001B[38;5;241m*\u001B[39mkwargs)\n\u001B[0;32m    214\u001B[0m \u001B[38;5;28;01mexcept\u001B[39;00m InvalidParameterError \u001B[38;5;28;01mas\u001B[39;00m e:\n\u001B[0;32m    215\u001B[0m     \u001B[38;5;66;03m# When the function is just a wrapper around an estimator, we allow\u001B[39;00m\n\u001B[0;32m    216\u001B[0m     \u001B[38;5;66;03m# the function to delegate validation to the estimator, but we replace\u001B[39;00m\n\u001B[0;32m    217\u001B[0m     \u001B[38;5;66;03m# the name of the estimator by the name of the function in the error\u001B[39;00m\n\u001B[0;32m    218\u001B[0m     \u001B[38;5;66;03m# message to avoid confusion.\u001B[39;00m\n\u001B[0;32m    219\u001B[0m     msg \u001B[38;5;241m=\u001B[39m re\u001B[38;5;241m.\u001B[39msub(\n\u001B[0;32m    220\u001B[0m         \u001B[38;5;124mr\u001B[39m\u001B[38;5;124m\"\u001B[39m\u001B[38;5;124mparameter of \u001B[39m\u001B[38;5;124m\\\u001B[39m\u001B[38;5;124mw+ must be\u001B[39m\u001B[38;5;124m\"\u001B[39m,\n\u001B[0;32m    221\u001B[0m         \u001B[38;5;124mf\u001B[39m\u001B[38;5;124m\"\u001B[39m\u001B[38;5;124mparameter of \u001B[39m\u001B[38;5;132;01m{\u001B[39;00mfunc\u001B[38;5;241m.\u001B[39m\u001B[38;5;18m__qualname__\u001B[39m\u001B[38;5;132;01m}\u001B[39;00m\u001B[38;5;124m must be\u001B[39m\u001B[38;5;124m\"\u001B[39m,\n\u001B[0;32m    222\u001B[0m         \u001B[38;5;28mstr\u001B[39m(e),\n\u001B[0;32m    223\u001B[0m     )\n",
      "File \u001B[1;32m~\\miniconda3\\envs\\readAlike\\Lib\\site-packages\\sklearn\\metrics\\pairwise.py:1687\u001B[0m, in \u001B[0;36mcosine_similarity\u001B[1;34m(X, Y, dense_output)\u001B[0m\n\u001B[0;32m   1684\u001B[0m \u001B[38;5;28;01melse\u001B[39;00m:\n\u001B[0;32m   1685\u001B[0m     Y_normalized \u001B[38;5;241m=\u001B[39m normalize(Y, copy\u001B[38;5;241m=\u001B[39m\u001B[38;5;28;01mTrue\u001B[39;00m)\n\u001B[1;32m-> 1687\u001B[0m K \u001B[38;5;241m=\u001B[39m safe_sparse_dot(X_normalized, Y_normalized\u001B[38;5;241m.\u001B[39mT, dense_output\u001B[38;5;241m=\u001B[39mdense_output)\n\u001B[0;32m   1689\u001B[0m \u001B[38;5;28;01mreturn\u001B[39;00m K\n",
      "File \u001B[1;32m~\\miniconda3\\envs\\readAlike\\Lib\\site-packages\\sklearn\\utils\\extmath.py:213\u001B[0m, in \u001B[0;36msafe_sparse_dot\u001B[1;34m(a, b, dense_output)\u001B[0m\n\u001B[0;32m    205\u001B[0m     ret \u001B[38;5;241m=\u001B[39m a \u001B[38;5;241m@\u001B[39m b\n\u001B[0;32m    207\u001B[0m \u001B[38;5;28;01mif\u001B[39;00m (\n\u001B[0;32m    208\u001B[0m     sparse\u001B[38;5;241m.\u001B[39missparse(a)\n\u001B[0;32m    209\u001B[0m     \u001B[38;5;129;01mand\u001B[39;00m sparse\u001B[38;5;241m.\u001B[39missparse(b)\n\u001B[0;32m    210\u001B[0m     \u001B[38;5;129;01mand\u001B[39;00m dense_output\n\u001B[0;32m    211\u001B[0m     \u001B[38;5;129;01mand\u001B[39;00m \u001B[38;5;28mhasattr\u001B[39m(ret, \u001B[38;5;124m\"\u001B[39m\u001B[38;5;124mtoarray\u001B[39m\u001B[38;5;124m\"\u001B[39m)\n\u001B[0;32m    212\u001B[0m ):\n\u001B[1;32m--> 213\u001B[0m     \u001B[38;5;28;01mreturn\u001B[39;00m ret\u001B[38;5;241m.\u001B[39mtoarray()\n\u001B[0;32m    214\u001B[0m \u001B[38;5;28;01mreturn\u001B[39;00m ret\n",
      "File \u001B[1;32m~\\miniconda3\\envs\\readAlike\\Lib\\site-packages\\scipy\\sparse\\_compressed.py:1181\u001B[0m, in \u001B[0;36m_cs_matrix.toarray\u001B[1;34m(self, order, out)\u001B[0m\n\u001B[0;32m   1179\u001B[0m \u001B[38;5;28;01mif\u001B[39;00m out \u001B[38;5;129;01mis\u001B[39;00m \u001B[38;5;28;01mNone\u001B[39;00m \u001B[38;5;129;01mand\u001B[39;00m order \u001B[38;5;129;01mis\u001B[39;00m \u001B[38;5;28;01mNone\u001B[39;00m:\n\u001B[0;32m   1180\u001B[0m     order \u001B[38;5;241m=\u001B[39m \u001B[38;5;28mself\u001B[39m\u001B[38;5;241m.\u001B[39m_swap(\u001B[38;5;124m'\u001B[39m\u001B[38;5;124mcf\u001B[39m\u001B[38;5;124m'\u001B[39m)[\u001B[38;5;241m0\u001B[39m]\n\u001B[1;32m-> 1181\u001B[0m out \u001B[38;5;241m=\u001B[39m \u001B[38;5;28mself\u001B[39m\u001B[38;5;241m.\u001B[39m_process_toarray_args(order, out)\n\u001B[0;32m   1182\u001B[0m \u001B[38;5;28;01mif\u001B[39;00m \u001B[38;5;129;01mnot\u001B[39;00m (out\u001B[38;5;241m.\u001B[39mflags\u001B[38;5;241m.\u001B[39mc_contiguous \u001B[38;5;129;01mor\u001B[39;00m out\u001B[38;5;241m.\u001B[39mflags\u001B[38;5;241m.\u001B[39mf_contiguous):\n\u001B[0;32m   1183\u001B[0m     \u001B[38;5;28;01mraise\u001B[39;00m \u001B[38;5;167;01mValueError\u001B[39;00m(\u001B[38;5;124m'\u001B[39m\u001B[38;5;124mOutput array must be C or F contiguous\u001B[39m\u001B[38;5;124m'\u001B[39m)\n",
      "File \u001B[1;32m~\\miniconda3\\envs\\readAlike\\Lib\\site-packages\\scipy\\sparse\\_base.py:1301\u001B[0m, in \u001B[0;36m_spbase._process_toarray_args\u001B[1;34m(self, order, out)\u001B[0m\n\u001B[0;32m   1299\u001B[0m     \u001B[38;5;28;01mreturn\u001B[39;00m out\n\u001B[0;32m   1300\u001B[0m \u001B[38;5;28;01melse\u001B[39;00m:\n\u001B[1;32m-> 1301\u001B[0m     \u001B[38;5;28;01mreturn\u001B[39;00m np\u001B[38;5;241m.\u001B[39mzeros(\u001B[38;5;28mself\u001B[39m\u001B[38;5;241m.\u001B[39mshape, dtype\u001B[38;5;241m=\u001B[39m\u001B[38;5;28mself\u001B[39m\u001B[38;5;241m.\u001B[39mdtype, order\u001B[38;5;241m=\u001B[39morder)\n",
      "\u001B[1;31mMemoryError\u001B[0m: Unable to allocate 4.66 GiB for an array with shape (25000, 25000) and data type float64"
     ]
    }
   ],
   "execution_count": 124
  },
  {
   "metadata": {
    "ExecuteTime": {
     "end_time": "2024-11-02T10:28:11.298463Z",
     "start_time": "2024-11-02T10:28:11.282435Z"
    }
   },
   "cell_type": "code",
   "source": [
    "stats_df.corr()['overlap_percentage']\n"
   ],
   "outputs": [
    {
     "data": {
      "text/plain": [
       "n_reduced_dataset    -0.673873\n",
       "n_trees               0.132187\n",
       "n_dim_reduction       0.077492\n",
       "n_output                   NaN\n",
       "overlap_percentage    1.000000\n",
       "Name: overlap_percentage, dtype: float64"
      ]
     },
     "execution_count": 111,
     "metadata": {},
     "output_type": "execute_result"
    }
   ],
   "execution_count": 111
  },
  {
   "metadata": {
    "ExecuteTime": {
     "end_time": "2024-11-02T10:29:10.773207Z",
     "start_time": "2024-11-02T10:29:10.744923Z"
    }
   },
   "cell_type": "code",
   "source": [
    "stats_df.groupby('n_trees')['overlap_percentage'].mean()\n"
   ],
   "outputs": [
    {
     "data": {
      "text/plain": [
       "n_trees\n",
       "40     53.333333\n",
       "60     58.333333\n",
       "100    60.833333\n",
       "150    59.166667\n",
       "Name: overlap_percentage, dtype: float64"
      ]
     },
     "execution_count": 112,
     "metadata": {},
     "output_type": "execute_result"
    }
   ],
   "execution_count": 112
  },
  {
   "metadata": {
    "ExecuteTime": {
     "end_time": "2024-11-02T10:29:40.744390Z",
     "start_time": "2024-11-02T10:29:40.736657Z"
    }
   },
   "cell_type": "code",
   "source": [
    "stats_df.groupby('n_dim_reduction')['overlap_percentage'].mean()"
   ],
   "outputs": [
    {
     "data": {
      "text/plain": [
       "n_dim_reduction\n",
       "100    53.333333\n",
       "200    60.833333\n",
       "300    60.833333\n",
       "400    56.666667\n",
       "Name: overlap_percentage, dtype: float64"
      ]
     },
     "execution_count": 113,
     "metadata": {},
     "output_type": "execute_result"
    }
   ],
   "execution_count": 113
  },
  {
   "metadata": {
    "ExecuteTime": {
     "end_time": "2024-11-02T11:13:44.767011Z",
     "start_time": "2024-11-02T11:13:44.753967Z"
    }
   },
   "cell_type": "code",
   "source": [
    "stats_df[stats_df['n_reduced_dataset'] == 15000].sort_values(by='overlap_percentage', ascending=False)\n"
   ],
   "outputs": [
    {
     "data": {
      "text/plain": [
       "    n_reduced_dataset  n_trees  n_dim_reduction  n_output  overlap_percentage\n",
       "39              15000       60              400        10                60.0\n",
       "41              15000      100              200        10                60.0\n",
       "33              15000       40              200        10                50.0\n",
       "34              15000       40              300        10                50.0\n",
       "38              15000       60              300        10                50.0\n",
       "40              15000      100              100        10                50.0\n",
       "42              15000      100              300        10                50.0\n",
       "43              15000      100              400        10                50.0\n",
       "44              15000      150              100        10                50.0\n",
       "45              15000      150              200        10                50.0\n",
       "46              15000      150              300        10                50.0\n",
       "47              15000      150              400        10                50.0\n",
       "35              15000       40              400        10                40.0\n",
       "36              15000       60              100        10                40.0\n",
       "37              15000       60              200        10                40.0\n",
       "32              15000       40              100        10                30.0"
      ],
      "text/html": [
       "<div>\n",
       "<style scoped>\n",
       "    .dataframe tbody tr th:only-of-type {\n",
       "        vertical-align: middle;\n",
       "    }\n",
       "\n",
       "    .dataframe tbody tr th {\n",
       "        vertical-align: top;\n",
       "    }\n",
       "\n",
       "    .dataframe thead th {\n",
       "        text-align: right;\n",
       "    }\n",
       "</style>\n",
       "<table border=\"1\" class=\"dataframe\">\n",
       "  <thead>\n",
       "    <tr style=\"text-align: right;\">\n",
       "      <th></th>\n",
       "      <th>n_reduced_dataset</th>\n",
       "      <th>n_trees</th>\n",
       "      <th>n_dim_reduction</th>\n",
       "      <th>n_output</th>\n",
       "      <th>overlap_percentage</th>\n",
       "    </tr>\n",
       "  </thead>\n",
       "  <tbody>\n",
       "    <tr>\n",
       "      <th>39</th>\n",
       "      <td>15000</td>\n",
       "      <td>60</td>\n",
       "      <td>400</td>\n",
       "      <td>10</td>\n",
       "      <td>60.0</td>\n",
       "    </tr>\n",
       "    <tr>\n",
       "      <th>41</th>\n",
       "      <td>15000</td>\n",
       "      <td>100</td>\n",
       "      <td>200</td>\n",
       "      <td>10</td>\n",
       "      <td>60.0</td>\n",
       "    </tr>\n",
       "    <tr>\n",
       "      <th>33</th>\n",
       "      <td>15000</td>\n",
       "      <td>40</td>\n",
       "      <td>200</td>\n",
       "      <td>10</td>\n",
       "      <td>50.0</td>\n",
       "    </tr>\n",
       "    <tr>\n",
       "      <th>34</th>\n",
       "      <td>15000</td>\n",
       "      <td>40</td>\n",
       "      <td>300</td>\n",
       "      <td>10</td>\n",
       "      <td>50.0</td>\n",
       "    </tr>\n",
       "    <tr>\n",
       "      <th>38</th>\n",
       "      <td>15000</td>\n",
       "      <td>60</td>\n",
       "      <td>300</td>\n",
       "      <td>10</td>\n",
       "      <td>50.0</td>\n",
       "    </tr>\n",
       "    <tr>\n",
       "      <th>40</th>\n",
       "      <td>15000</td>\n",
       "      <td>100</td>\n",
       "      <td>100</td>\n",
       "      <td>10</td>\n",
       "      <td>50.0</td>\n",
       "    </tr>\n",
       "    <tr>\n",
       "      <th>42</th>\n",
       "      <td>15000</td>\n",
       "      <td>100</td>\n",
       "      <td>300</td>\n",
       "      <td>10</td>\n",
       "      <td>50.0</td>\n",
       "    </tr>\n",
       "    <tr>\n",
       "      <th>43</th>\n",
       "      <td>15000</td>\n",
       "      <td>100</td>\n",
       "      <td>400</td>\n",
       "      <td>10</td>\n",
       "      <td>50.0</td>\n",
       "    </tr>\n",
       "    <tr>\n",
       "      <th>44</th>\n",
       "      <td>15000</td>\n",
       "      <td>150</td>\n",
       "      <td>100</td>\n",
       "      <td>10</td>\n",
       "      <td>50.0</td>\n",
       "    </tr>\n",
       "    <tr>\n",
       "      <th>45</th>\n",
       "      <td>15000</td>\n",
       "      <td>150</td>\n",
       "      <td>200</td>\n",
       "      <td>10</td>\n",
       "      <td>50.0</td>\n",
       "    </tr>\n",
       "    <tr>\n",
       "      <th>46</th>\n",
       "      <td>15000</td>\n",
       "      <td>150</td>\n",
       "      <td>300</td>\n",
       "      <td>10</td>\n",
       "      <td>50.0</td>\n",
       "    </tr>\n",
       "    <tr>\n",
       "      <th>47</th>\n",
       "      <td>15000</td>\n",
       "      <td>150</td>\n",
       "      <td>400</td>\n",
       "      <td>10</td>\n",
       "      <td>50.0</td>\n",
       "    </tr>\n",
       "    <tr>\n",
       "      <th>35</th>\n",
       "      <td>15000</td>\n",
       "      <td>40</td>\n",
       "      <td>400</td>\n",
       "      <td>10</td>\n",
       "      <td>40.0</td>\n",
       "    </tr>\n",
       "    <tr>\n",
       "      <th>36</th>\n",
       "      <td>15000</td>\n",
       "      <td>60</td>\n",
       "      <td>100</td>\n",
       "      <td>10</td>\n",
       "      <td>40.0</td>\n",
       "    </tr>\n",
       "    <tr>\n",
       "      <th>37</th>\n",
       "      <td>15000</td>\n",
       "      <td>60</td>\n",
       "      <td>200</td>\n",
       "      <td>10</td>\n",
       "      <td>40.0</td>\n",
       "    </tr>\n",
       "    <tr>\n",
       "      <th>32</th>\n",
       "      <td>15000</td>\n",
       "      <td>40</td>\n",
       "      <td>100</td>\n",
       "      <td>10</td>\n",
       "      <td>30.0</td>\n",
       "    </tr>\n",
       "  </tbody>\n",
       "</table>\n",
       "</div>"
      ]
     },
     "execution_count": 132,
     "metadata": {},
     "output_type": "execute_result"
    }
   ],
   "execution_count": 132
  },
  {
   "metadata": {
    "ExecuteTime": {
     "end_time": "2024-11-02T11:13:05.535317Z",
     "start_time": "2024-11-02T11:13:05.523968Z"
    }
   },
   "cell_type": "code",
   "source": [
    "stats_df[stats_df['n_reduced_dataset'] == 20000].sort_values(by='overlap_percentage', ascending=False)"
   ],
   "outputs": [
    {
     "data": {
      "text/plain": [
       "    n_reduced_dataset  n_trees  n_dim_reduction  n_output  overlap_percentage\n",
       "53              20000      100              400        10                50.0\n",
       "48              20000       60              200        10                40.0\n",
       "49              20000       60              300        10                40.0\n",
       "51              20000      100              200        10                40.0\n",
       "52              20000      100              300        10                40.0\n",
       "54              20000      150              200        10                40.0\n",
       "55              20000      150              300        10                40.0\n",
       "56              20000      150              400        10                40.0\n",
       "50              20000       60              400        10                10.0"
      ],
      "text/html": [
       "<div>\n",
       "<style scoped>\n",
       "    .dataframe tbody tr th:only-of-type {\n",
       "        vertical-align: middle;\n",
       "    }\n",
       "\n",
       "    .dataframe tbody tr th {\n",
       "        vertical-align: top;\n",
       "    }\n",
       "\n",
       "    .dataframe thead th {\n",
       "        text-align: right;\n",
       "    }\n",
       "</style>\n",
       "<table border=\"1\" class=\"dataframe\">\n",
       "  <thead>\n",
       "    <tr style=\"text-align: right;\">\n",
       "      <th></th>\n",
       "      <th>n_reduced_dataset</th>\n",
       "      <th>n_trees</th>\n",
       "      <th>n_dim_reduction</th>\n",
       "      <th>n_output</th>\n",
       "      <th>overlap_percentage</th>\n",
       "    </tr>\n",
       "  </thead>\n",
       "  <tbody>\n",
       "    <tr>\n",
       "      <th>53</th>\n",
       "      <td>20000</td>\n",
       "      <td>100</td>\n",
       "      <td>400</td>\n",
       "      <td>10</td>\n",
       "      <td>50.0</td>\n",
       "    </tr>\n",
       "    <tr>\n",
       "      <th>48</th>\n",
       "      <td>20000</td>\n",
       "      <td>60</td>\n",
       "      <td>200</td>\n",
       "      <td>10</td>\n",
       "      <td>40.0</td>\n",
       "    </tr>\n",
       "    <tr>\n",
       "      <th>49</th>\n",
       "      <td>20000</td>\n",
       "      <td>60</td>\n",
       "      <td>300</td>\n",
       "      <td>10</td>\n",
       "      <td>40.0</td>\n",
       "    </tr>\n",
       "    <tr>\n",
       "      <th>51</th>\n",
       "      <td>20000</td>\n",
       "      <td>100</td>\n",
       "      <td>200</td>\n",
       "      <td>10</td>\n",
       "      <td>40.0</td>\n",
       "    </tr>\n",
       "    <tr>\n",
       "      <th>52</th>\n",
       "      <td>20000</td>\n",
       "      <td>100</td>\n",
       "      <td>300</td>\n",
       "      <td>10</td>\n",
       "      <td>40.0</td>\n",
       "    </tr>\n",
       "    <tr>\n",
       "      <th>54</th>\n",
       "      <td>20000</td>\n",
       "      <td>150</td>\n",
       "      <td>200</td>\n",
       "      <td>10</td>\n",
       "      <td>40.0</td>\n",
       "    </tr>\n",
       "    <tr>\n",
       "      <th>55</th>\n",
       "      <td>20000</td>\n",
       "      <td>150</td>\n",
       "      <td>300</td>\n",
       "      <td>10</td>\n",
       "      <td>40.0</td>\n",
       "    </tr>\n",
       "    <tr>\n",
       "      <th>56</th>\n",
       "      <td>20000</td>\n",
       "      <td>150</td>\n",
       "      <td>400</td>\n",
       "      <td>10</td>\n",
       "      <td>40.0</td>\n",
       "    </tr>\n",
       "    <tr>\n",
       "      <th>50</th>\n",
       "      <td>20000</td>\n",
       "      <td>60</td>\n",
       "      <td>400</td>\n",
       "      <td>10</td>\n",
       "      <td>10.0</td>\n",
       "    </tr>\n",
       "  </tbody>\n",
       "</table>\n",
       "</div>"
      ]
     },
     "execution_count": 131,
     "metadata": {},
     "output_type": "execute_result"
    }
   ],
   "execution_count": 131
  }
 ]
}
